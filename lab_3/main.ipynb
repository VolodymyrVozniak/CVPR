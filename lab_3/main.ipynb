{
 "cells": [
  {
   "cell_type": "markdown",
   "metadata": {},
   "source": [
    "# Lab 3"
   ]
  },
  {
   "cell_type": "markdown",
   "metadata": {},
   "source": [
    "## Основні функції та змінні"
   ]
  },
  {
   "cell_type": "markdown",
   "metadata": {},
   "source": [
    "### Імпортуємо необхідні бібліотеки"
   ]
  },
  {
   "cell_type": "code",
   "execution_count": 186,
   "metadata": {},
   "outputs": [],
   "source": [
    "import cv2\n",
    "import numpy as np\n",
    "import pandas as pd\n",
    "import time\n",
    "import os\n",
    "import matplotlib.pyplot as plt\n",
    "import glob"
   ]
  },
  {
   "cell_type": "markdown",
   "metadata": {},
   "source": [
    "### Код попередньої лабки"
   ]
  },
  {
   "cell_type": "code",
   "execution_count": 2,
   "metadata": {},
   "outputs": [],
   "source": [
    "class ObjectRecignition:\n",
    "    \"\"\"\n",
    "    Arguments:\n",
    "        path_main: string -- path for main (train) image\n",
    "        directory_test: string -- directory with all images for testing\n",
    "        directory_save: string -- directory where you want to save all possible savings\n",
    "        n_features: int -- number of features that will be used as a parameter for ORB descriptor (default: 1500)\n",
    "    \"\"\"\n",
    "    \n",
    "    def __init__(self, path_main, directory_test, directory_save, n_features=1500):\n",
    "        self.path_main = path_main\n",
    "        self.directory_test = directory_test\n",
    "        self.directory_save = directory_save\n",
    "        self.n_features = n_features\n",
    "        self.__orb = cv2.ORB_create(nfeatures=n_features)\n",
    "        self.img_main = cv2.imread(path_main, cv2.IMREAD_GRAYSCALE)\n",
    "        self.keypoints_main, self.descriptors_main = self.__orb.detectAndCompute(self.img_main, None)\n",
    "        self.__bf = cv2.BFMatcher(cv2.NORM_HAMMING, crossCheck=True)\n",
    "    \n",
    "    \n",
    "    def get_metrics(self, path):\n",
    "        \"\"\"\n",
    "        Return metrics for main and another image\n",
    "        Arguments:\n",
    "            path: string -- path for another image\n",
    "        Returns:\n",
    "            features: int -- number of features\n",
    "            all_matches: int -- number of all matches\n",
    "            true_matches: int -- number of true matches (find by findHomography)\n",
    "            error_all_matches: float -- mean of distances of DMatch objects for all matches\n",
    "            error_true_matches: float -- mean of distances of DMatch objects for true matches\n",
    "            size: tuple -- size of image\n",
    "            time: float -- time of running the function\n",
    "        \"\"\"        \n",
    "        # Initialize an image\n",
    "        img = cv2.imread(path, cv2.IMREAD_GRAYSCALE)\n",
    "        kp, des = self.__orb.detectAndCompute(img, None)\n",
    "        \n",
    "        # Find features\n",
    "        features = self.n_features\n",
    "        \n",
    "        # Find time\n",
    "        start_time = time.time()\n",
    "        \n",
    "        # Find all_matches\n",
    "        try:\n",
    "            matches = self.__bf.match(self.descriptors_main, des)\n",
    "        except:\n",
    "            print(\"Something wrong with image\", path)\n",
    "            return np.nan, np.nan, np.nan, np.nan, np.nan, np.nan, np.nan\n",
    "        matches = sorted(matches, key = lambda x: x.distance)\n",
    "        all_matches = len(matches)\n",
    "        \n",
    "        # Find true_matches\n",
    "        query_pts = np.float32([self.keypoints_main[m.queryIdx].pt for m in matches]).reshape(-1, 1, 2)\n",
    "        train_pts = np.float32([kp[m.trainIdx].pt for m in matches]).reshape(-1, 1, 2)\n",
    "        _, mask = cv2.findHomography(query_pts, train_pts, cv2.RANSAC, 5.0)\n",
    "        matches_mask = mask.ravel().tolist()\n",
    "        true_matches_list = []\n",
    "        for index, el in enumerate(matches_mask):\n",
    "            if el == 1:\n",
    "                true_matches_list.append(matches[index])\n",
    "        true_matches = len(true_matches_list)\n",
    "        \n",
    "        # Find time\n",
    "        end_time = time.time()\n",
    "        time_ = round(end_time - start_time, 4)\n",
    "        \n",
    "        # Find error_all_matches\n",
    "        if all_matches == 0:\n",
    "            error_all_matches = np.nan\n",
    "        else:\n",
    "            error_all_matches_list = []\n",
    "            for m in matches:\n",
    "                error_all_matches_list.append(m.distance)\n",
    "            error_all_matches = round(np.array(error_all_matches_list).mean(), 4)\n",
    "        \n",
    "        # Find error_true_matches\n",
    "        if true_matches == 0:\n",
    "            error_true_matches = np.nan\n",
    "        else:\n",
    "            error_true_matches_list = []\n",
    "            for m in true_matches_list:\n",
    "                error_true_matches_list.append(m.distance)\n",
    "            error_true_matches = round(np.array(error_true_matches_list).mean(), 4)\n",
    "        \n",
    "        # Find size\n",
    "        size = img.shape\n",
    "        \n",
    "        # Здається, що алгоримт завжди знаходить у районі 10 true_matches, тому будемо вважати 10 еквівалентно 0\n",
    "#         if true_matches < 10:\n",
    "#             true_matches = 0\n",
    "#             error_true_matches = np.nan\n",
    "        \n",
    "        # Return values as tuple\n",
    "        return features, all_matches, true_matches, error_all_matches, error_true_matches, size, time_\n",
    "    \n",
    "        \n",
    "    def get_all_metrics_as_df(self, print_results=False):\n",
    "        \"\"\"\n",
    "        Return all metrics for all images from directory_test as pandas DataFrame\n",
    "        Returns:\n",
    "            df: pandas DataFrame -- a dataframe with all metrics for all images\n",
    "        \"\"\"\n",
    "        all_metrics = []\n",
    "        \n",
    "        for filename in os.listdir(self.directory_test):\n",
    "            path = self.directory_test + '\\\\\\\\' + filename\n",
    "            temp_list = list(self.get_metrics(path))\n",
    "            temp_list.insert(0, filename)\n",
    "            all_metrics.append(temp_list)\n",
    "            \n",
    "        df = pd.DataFrame(all_metrics, columns=['name', 'features', 'all_matches', 'true_matches', \n",
    "                                                'error_all_matches', 'error_true_matches', 'size', 'time'])\n",
    "        return df\n",
    "        \n",
    "    \n",
    "    def save_all_metrics(self, file_name):\n",
    "        \"\"\"\n",
    "        Save all metrics for all images as csv file\n",
    "        Arguments:\n",
    "            file_name: string -- name of the file (without the format)\n",
    "        \"\"\"\n",
    "        df = self.get_all_metrics_as_df()\n",
    "        df.to_csv(self.directory_save + '\\\\\\\\' + file_name + '.csv') \n",
    "    \n",
    "    \n",
    "    def show_features(self, save=False):\n",
    "        \"\"\"\n",
    "        Show features on the main image\n",
    "        Arguments:\n",
    "            save: bool -- save received image or not (default: False)\n",
    "        \"\"\"\n",
    "        img_keys = cv2.drawKeypoints(self.img_main, self.keypoints_main, None)\n",
    "        cv2.namedWindow(\"Image\", cv2.WINDOW_NORMAL)\n",
    "        cv2.resizeWindow(\"Image\", 600, 600)\n",
    "        cv2.imshow(\"Image\", img_keys)\n",
    "        \n",
    "        if save:\n",
    "            file_name = self.directory_save + '\\\\\\\\' + 'features_for_' + self.path_main.split('\\\\')[-1]\n",
    "            cv2.imwrite(file_name, img_keys)\n",
    "        \n",
    "        cv2.waitKey(0)\n",
    "        cv2.destroyAllWindows()\n",
    "\n",
    "    \n",
    "    def show_all_matches(self, random=True, path='', save=False):\n",
    "        \"\"\"\n",
    "        Show all matches between main and another image\n",
    "        Arguments:\n",
    "            random: bool -- show all matches for random image if random set to True (default: True)\n",
    "            path: string -- path for another image if random set to False (default: empty string)\n",
    "            save: bool -- save received image or not (default: False)\n",
    "        \"\"\"\n",
    "        if random:\n",
    "            path = self.directory_test + '\\\\\\\\' + np.random.choice(os.listdir(self.directory_test))\n",
    "        else:\n",
    "            if path == '':\n",
    "                return \"Please enter the path or set random to True\"\n",
    "            \n",
    "        img = cv2.imread(path, cv2.IMREAD_GRAYSCALE)\n",
    "        kp, des = self.__orb.detectAndCompute(img, None)\n",
    "        \n",
    "        matches = self.__bf.match(self.descriptors_main, des)\n",
    "        matches = sorted(matches, key = lambda x: x.distance)\n",
    "        \n",
    "        matching_result = cv2.drawMatches(self.img_main, self.keypoints_main, img, kp, matches, None)\n",
    "        \n",
    "        cv2.namedWindow(\"Matches\", cv2.WINDOW_NORMAL)\n",
    "        cv2.resizeWindow(\"Matches\", 1200, 600)\n",
    "        cv2.imshow(\"Matches\", matching_result)\n",
    "        \n",
    "        if save:\n",
    "            file_name = self.directory_save + '\\\\\\\\' +  'all_matches_for_' + path.split('\\\\')[-1]\n",
    "            cv2.imwrite(file_name, matching_result)\n",
    "        \n",
    "        cv2.waitKey(0)\n",
    "        cv2.destroyAllWindows()\n",
    "        \n",
    "    \n",
    "    def show_true_matches(self, random=True, path='', save=False):\n",
    "        \"\"\"\n",
    "        Show true matches between main and another image (finding by findHomography)\n",
    "        Arguments:\n",
    "            random: bool -- show all matches for random image if random set to True (default: True)\n",
    "            path: string -- path for another image if random set to False (default: empty string)\n",
    "            save: bool -- save received image or not (default: False)\n",
    "        \"\"\"\n",
    "        if random:\n",
    "            path = self.directory_test + '\\\\\\\\' + np.random.choice(os.listdir(self.directory_test))\n",
    "        else:\n",
    "            if path == '':\n",
    "                return \"Please enter the path or set random to True\"\n",
    "            \n",
    "        img = cv2.imread(path, cv2.IMREAD_GRAYSCALE)\n",
    "        kp, des = self.__orb.detectAndCompute(img, None)\n",
    "        \n",
    "        matches = self.__bf.match(self.descriptors_main, des)\n",
    "        matches = sorted(matches, key = lambda x: x.distance)\n",
    "        \n",
    "        matching_result = cv2.drawMatches(self.img_main, self.keypoints_main, img, kp, matches, None)\n",
    "        \n",
    "        query_pts = np.float32([self.keypoints_main[m.queryIdx].pt for m in matches]).reshape(-1, 1, 2)\n",
    "        train_pts = np.float32([kp[m.trainIdx].pt for m in matches]).reshape(-1, 1, 2)\n",
    "        _, mask = cv2.findHomography(query_pts, train_pts, cv2.RANSAC, 5.0)\n",
    "        matches_mask = mask.ravel().tolist()\n",
    "        \n",
    "        true_matches = []\n",
    "        for index, el in enumerate(matches_mask):\n",
    "            if el == 1:\n",
    "                true_matches.append(matches[index])\n",
    "                \n",
    "        matching_true_relults = cv2.drawMatches(self.img_main, self.keypoints_main, img, kp, true_matches, None)\n",
    "        \n",
    "        cv2.namedWindow(\"True Matches\", cv2.WINDOW_NORMAL)\n",
    "        cv2.resizeWindow(\"True Matches\", 1200, 600)\n",
    "        cv2.imshow(\"True Matches\", matching_true_relults)\n",
    "        \n",
    "        if save:\n",
    "            file_name = self.directory_save + '\\\\\\\\' + 'true_matches_for_' + path.split('\\\\')[-1]\n",
    "            cv2.imwrite(file_name, matching_true_relults)\n",
    "        \n",
    "        cv2.waitKey(0)\n",
    "        cv2.destroyAllWindows()"
   ]
  },
  {
   "cell_type": "markdown",
   "metadata": {},
   "source": [
    "### Оголошуємо необхідні змінні"
   ]
  },
  {
   "cell_type": "code",
   "execution_count": 3,
   "metadata": {},
   "outputs": [],
   "source": [
    "n_features = 500\n",
    "directory_test = \"Library\"\n",
    "include_other_photos = True"
   ]
  },
  {
   "cell_type": "markdown",
   "metadata": {},
   "source": [
    "### Функція для створення X та y для майбутніх класифікаторів"
   ]
  },
  {
   "cell_type": "code",
   "execution_count": 4,
   "metadata": {},
   "outputs": [],
   "source": [
    "def create_X_and_y(n_features, directory_test, include_other_photos):\n",
    "    \"\"\"\n",
    "    Create X and y for future classifier\n",
    "    Arguments:\n",
    "        n_features: int -- number of features (will be used for defining ORB descriptor)\n",
    "        directory_test: str -- directory with all images for testing\n",
    "        include_other_photos: bool -- spicifies which classifier will be later (binary classifier with only two possible objects\n",
    "                              on photo or ternary classifier with two possible objects on photo and some another type of photos)\n",
    "    Returns:\n",
    "    X: np.array -- matrix X for future classifier\n",
    "    y: np.array -- vector y for future classifier\n",
    "    \"\"\"\n",
    "    X_dict = {}\n",
    "    X = []\n",
    "    y = []\n",
    "    orb = cv2.ORB_create(nfeatures=n_features)\n",
    "    \n",
    "    for filename in os.listdir(directory_test):\n",
    "        path = directory_test + '\\\\\\\\' + filename\n",
    "        img = cv2.imread(path, cv2.IMREAD_GRAYSCALE)\n",
    "        kp, des = orb.detectAndCompute(img, None)\n",
    "        try:\n",
    "            size = des.shape[0]\n",
    "        except:\n",
    "            print(filename, \"hasn't got any features!\")\n",
    "            continue\n",
    "        if size == 500:\n",
    "            id = int(filename.split('.')[0])\n",
    "            if include_other_photos:\n",
    "                X.append(des)\n",
    "                X_dict[id] = des\n",
    "                if id < 120:\n",
    "                    y.append(2)\n",
    "                elif id > 225:\n",
    "                    y.append(0)\n",
    "                else:\n",
    "                    y.append(1)\n",
    "            else:\n",
    "                if id < 120:\n",
    "                    X.append(des)\n",
    "                    X_dict[id] = des\n",
    "                    y.append(2)\n",
    "                elif id > 225:\n",
    "                    pass\n",
    "                else:\n",
    "                    X.append(des)\n",
    "                    X_dict[id] = des\n",
    "                    y.append(1)\n",
    "        else:\n",
    "            print(filename, \"has less than 500 features!\")\n",
    "                    \n",
    "    X = np.asarray(X)\n",
    "    X = X.reshape(X.shape[0], -1)\n",
    "    y = np.asarray(y)\n",
    "    \n",
    "    return X, y, X_dict"
   ]
  },
  {
   "cell_type": "markdown",
   "metadata": {},
   "source": [
    "### Допоміжна функція для наочної перевірки правильності роботи класифікатора"
   ]
  },
  {
   "cell_type": "code",
   "execution_count": 5,
   "metadata": {},
   "outputs": [],
   "source": [
    "def print_photo(y_test, y_pred, X_test, X_dict):\n",
    "    if y_test == 0:\n",
    "        print(\"This is neither car nor ship!\")\n",
    "    elif y_test == 1:\n",
    "        print(\"This is car!\")\n",
    "    else:\n",
    "        print(\"This is ship!\")\n",
    "    if y_pred == 0:\n",
    "        print(\"My classifier thinks this is neither car nor ship!\")\n",
    "    elif y_pred == 1:\n",
    "        print(\"My classifier thinks this is car!\")\n",
    "    else:\n",
    "        print(\"My classifier thinks this is ship!\")\n",
    "    X_test = X_test.reshape(500, 32)\n",
    "    id = [id for id, el in X_dict.items() if (el == X_test).all()][0]\n",
    "    path = directory_test + '\\\\\\\\' + str(id) + '.jpg'\n",
    "    img = cv2.imread(path, 0)\n",
    "    cv2.namedWindow(\"Image\", cv2.WINDOW_NORMAL)\n",
    "    cv2.resizeWindow(\"Image\", 600, 600)\n",
    "    cv2.imshow(\"Image\", img)\n",
    "    cv2.waitKey(0)\n",
    "    cv2.destroyAllWindows()\n",
    "    print(path)"
   ]
  },
  {
   "cell_type": "markdown",
   "metadata": {},
   "source": [
    "## Будуємо тернарний класифікатор"
   ]
  },
  {
   "cell_type": "code",
   "execution_count": 11,
   "metadata": {},
   "outputs": [
    {
     "name": "stdout",
     "output_type": "stream",
     "text": [
      "151.jpg has less than 500 features!\n",
      "171.jpg has less than 500 features!\n",
      "172.jpg has less than 500 features!\n",
      "174.jpg has less than 500 features!\n",
      "175.jpg has less than 500 features!\n",
      "176.jpg has less than 500 features!\n",
      "178.jpg has less than 500 features!\n",
      "202.jpg has less than 500 features!\n",
      "203.jpg has less than 500 features!\n",
      "204.jpg has less than 500 features!\n",
      "225.jpg has less than 500 features!\n",
      "236.jpg has less than 500 features!\n",
      "239.jpg has less than 500 features!\n",
      "240.jpg has less than 500 features!\n",
      "241.jpg hasn't got any features!\n",
      "246.jpg has less than 500 features!\n",
      "255.jpg has less than 500 features!\n",
      "258.jpg has less than 500 features!\n",
      "259.jpg has less than 500 features!\n",
      "263.jpg has less than 500 features!\n",
      "264.jpg has less than 500 features!\n",
      "265.jpg has less than 500 features!\n",
      "267.jpg hasn't got any features!\n",
      "268.jpg has less than 500 features!\n",
      "269.jpg hasn't got any features!\n",
      "30.jpg has less than 500 features!\n",
      "34.jpg has less than 500 features!\n",
      "35.jpg has less than 500 features!\n",
      "36.jpg has less than 500 features!\n",
      "38.jpg has less than 500 features!\n",
      "39.jpg hasn't got any features!\n",
      "46.jpg hasn't got any features!\n",
      "47.jpg has less than 500 features!\n",
      "58.jpg has less than 500 features!\n",
      "59.jpg has less than 500 features!\n",
      "72.jpg has less than 500 features!\n",
      "82.jpg has less than 500 features!\n",
      "83.jpg has less than 500 features!\n",
      "84.jpg has less than 500 features!\n",
      "85.jpg has less than 500 features!\n",
      "86.jpg has less than 500 features!\n",
      "87.jpg has less than 500 features!\n",
      "88.jpg has less than 500 features!\n",
      "91.jpg hasn't got any features!\n",
      "92.jpg hasn't got any features!\n",
      "93.jpg hasn't got any features!\n",
      "94.jpg has less than 500 features!\n",
      "95.jpg has less than 500 features!\n",
      "\n",
      "X shape: (221, 16000)\n",
      "y shape: (221,)\n"
     ]
    }
   ],
   "source": [
    "X, y, X_dict = create_X_and_y(n_features, directory_test, include_other_photos)\n",
    "\n",
    "print()\n",
    "print(\"X shape:\", X.shape)\n",
    "print(\"y shape:\", y.shape)"
   ]
  },
  {
   "cell_type": "markdown",
   "metadata": {},
   "source": [
    "### Розділяємо вибірку на train та test"
   ]
  },
  {
   "cell_type": "code",
   "execution_count": 13,
   "metadata": {},
   "outputs": [
    {
     "name": "stdout",
     "output_type": "stream",
     "text": [
      "X_train shape: (165, 16000)\n",
      "y_train shape: (165,)\n",
      "X_test shape: (56, 16000)\n",
      "y_test shape: (56,)\n"
     ]
    }
   ],
   "source": [
    "from sklearn.model_selection import train_test_split\n",
    "\n",
    "X_train, X_test, y_train, y_test = train_test_split(X, y, test_size=0.25, random_state=100)\n",
    "\n",
    "print(\"X_train shape:\", X_train.shape)\n",
    "print(\"y_train shape:\", y_train.shape)\n",
    "print(\"X_test shape:\", X_test.shape)\n",
    "print(\"y_test shape:\", y_test.shape)"
   ]
  },
  {
   "cell_type": "markdown",
   "metadata": {},
   "source": [
    "### Використовуємо Logistic Regression як наш класифікатор"
   ]
  },
  {
   "cell_type": "code",
   "execution_count": 14,
   "metadata": {},
   "outputs": [],
   "source": [
    "from sklearn.linear_model import LogisticRegression\n",
    "\n",
    "logreg = LogisticRegression(solver='liblinear', multi_class='auto')\n",
    "logreg.fit(X_train, y_train)\n",
    "\n",
    "y_pred = logreg.predict(X_test)"
   ]
  },
  {
   "cell_type": "markdown",
   "metadata": {},
   "source": [
    "### Виводимо точність для одного із train_test_split"
   ]
  },
  {
   "cell_type": "code",
   "execution_count": 51,
   "metadata": {
    "scrolled": true
   },
   "outputs": [
    {
     "name": "stdout",
     "output_type": "stream",
     "text": [
      "0.7857142857142857\n"
     ]
    }
   ],
   "source": [
    "from sklearn import metrics\n",
    "print(metrics.accuracy_score(y_test, y_pred))"
   ]
  },
  {
   "cell_type": "markdown",
   "metadata": {},
   "source": [
    "### Демонструємо наглядну роботу класифікатора"
   ]
  },
  {
   "cell_type": "code",
   "execution_count": 52,
   "metadata": {},
   "outputs": [
    {
     "data": {
      "text/plain": [
       "array([2, 2, 2, 2, 1, 2, 2, 1, 1, 1, 2, 1, 2, 1, 1, 2, 2, 1, 1, 1, 2, 1,\n",
       "       2, 1, 2, 2, 2, 1, 1, 1, 1, 2, 1, 2, 2, 2, 2, 2, 2, 2, 2, 2, 2, 2,\n",
       "       2, 1, 2, 2, 2, 2, 1, 1, 2, 2, 1, 1])"
      ]
     },
     "execution_count": 52,
     "metadata": {},
     "output_type": "execute_result"
    }
   ],
   "source": [
    "y_pred"
   ]
  },
  {
   "cell_type": "code",
   "execution_count": 53,
   "metadata": {},
   "outputs": [
    {
     "data": {
      "text/plain": [
       "array([2, 0, 1, 2, 0, 1, 1, 1, 1, 1, 2, 1, 2, 1, 1, 0, 2, 1, 1, 1, 2, 1,\n",
       "       2, 1, 0, 1, 1, 1, 1, 1, 1, 2, 1, 2, 2, 2, 2, 2, 2, 2, 2, 2, 2, 2,\n",
       "       2, 1, 2, 2, 0, 2, 1, 2, 2, 2, 1, 2])"
      ]
     },
     "execution_count": 53,
     "metadata": {},
     "output_type": "execute_result"
    }
   ],
   "source": [
    "y_test"
   ]
  },
  {
   "cell_type": "code",
   "execution_count": 54,
   "metadata": {},
   "outputs": [],
   "source": [
    "# pd.Series(y_train).value_counts()"
   ]
  },
  {
   "cell_type": "markdown",
   "metadata": {},
   "source": [
    "Як ми бачимо, точність класифіктора для даного train_test_split майже 80%, що впринципі досить непогано для такої трейнової вибірки. Вище я вивів очікувані значення y та передбачені. За допомогою функції print_photo можемо повиводити зображення, які наш класифікатор передбачає не вірно.\n",
    "\n",
    "<img src=\"Library\\146.jpg\" alt=\"Drawing\" style=\"width: 400px;\"/>"
   ]
  },
  {
   "cell_type": "code",
   "execution_count": 306,
   "metadata": {},
   "outputs": [
    {
     "name": "stdout",
     "output_type": "stream",
     "text": [
      "This is car!\n",
      "My classifier thinks this is ship!\n",
      "Library\\\\146.jpg\n"
     ]
    }
   ],
   "source": [
    "print_photo(y_test[2], y_pred[2], X_test[2], X_dict)"
   ]
  },
  {
   "cell_type": "markdown",
   "metadata": {},
   "source": [
    "<img src=\"Library\\179.jpg\" alt=\"Drawing\" style=\"width: 400px;\"/>"
   ]
  },
  {
   "cell_type": "code",
   "execution_count": 310,
   "metadata": {},
   "outputs": [
    {
     "name": "stdout",
     "output_type": "stream",
     "text": [
      "This is car!\n",
      "My classifier thinks this is ship!\n",
      "Library\\\\179.jpg\n"
     ]
    }
   ],
   "source": [
    "print_photo(y_test[5], y_pred[5], X_test[5], X_dict)"
   ]
  },
  {
   "cell_type": "markdown",
   "metadata": {},
   "source": [
    "<img src=\"Library\\238.jpg\" alt=\"Drawing\" style=\"width: 400px;\"/>"
   ]
  },
  {
   "cell_type": "code",
   "execution_count": 312,
   "metadata": {},
   "outputs": [
    {
     "name": "stdout",
     "output_type": "stream",
     "text": [
      "This is neither car nor ship!\n",
      "My classifier thinks this is ship!\n",
      "Library\\\\238.jpg\n"
     ]
    }
   ],
   "source": [
    "print_photo(y_test[1], y_pred[1], X_test[1], X_dict)"
   ]
  },
  {
   "cell_type": "markdown",
   "metadata": {},
   "source": [
    "<img src=\"Library\\101.jpg\" alt=\"Drawing\" style=\"width: 400px;\"/>"
   ]
  },
  {
   "cell_type": "code",
   "execution_count": 317,
   "metadata": {},
   "outputs": [
    {
     "name": "stdout",
     "output_type": "stream",
     "text": [
      "This is ship!\n",
      "My classifier thinks this is car!\n",
      "Library\\\\101.jpg\n"
     ]
    }
   ],
   "source": [
    "print_photo(y_test[-1], y_pred[-1], X_test[-1], X_dict)"
   ]
  },
  {
   "cell_type": "markdown",
   "metadata": {},
   "source": [
    "Так, за цими прикладами здається дуже дивним, що класифікатор не вірно розпізнає об'єкти на цих зображеннях, проте самі зображення дійсно дуже різні (на одному із них лише трішки видніється машинка, головний ракурс на замку, а останнє фото кораблика взагалі трішки розмите, а, як ми уже знаємо із попередньої лабки, ORB є дуже чутливим до освітлення й розмитості фото), а тому однозначного висновку щодо того чому так відбувається зробити не можна. На мою думку, це відбувається через замалу трейн вибірку (лише 165 об'єктів). Та навіть попри таку невеличку вибірку класифікатор працює із точністю близько 70% (для різних train_test_split різна точність), що досить круто. Одне можна сказати напевне: наша вибірка містить замалу кількість фото без машинки й корабля, саме через це вона взагалі не виводить жодного спрогнозованого 0 (що відповідає зображенню без машинки й корабля). Проте було вирішено не міняти початково створену вибірку, оскільки в Андрія, мого колеги по команді (Увага! Спойлер!), навіть на такій виборці з допомогою його дескриптора класифікатор досить адекватно прогнозує 0, для мого ж класифікатора із моїм дескриптором вибірка все ж містить замало фото без машинки й без корабля. Тому наступним кроком спробуємо розглянути бінарну класифікацію на вибірці, яка міститиме лише фото або машинки, або корабля."
   ]
  },
  {
   "cell_type": "markdown",
   "metadata": {},
   "source": [
    "### Виводимо confusion matrix"
   ]
  },
  {
   "cell_type": "code",
   "execution_count": 55,
   "metadata": {},
   "outputs": [
    {
     "name": "stdout",
     "output_type": "stream",
     "text": [
      "[[ 0  1  4]\n",
      " [ 0 19  5]\n",
      " [ 0  2 25]]\n"
     ]
    }
   ],
   "source": [
    "print(metrics.confusion_matrix(y_test, y_pred))"
   ]
  },
  {
   "cell_type": "markdown",
   "metadata": {},
   "source": [
    "Це я вивів confusion matrix, із якої досить добре видно кількість правильно спрогнозованих фото та помилки першого й другого роду. Наприклад, класифікатор правильно знаходить 19 машин на фото та 25 кораблів, проте замість того, щоб не знайти нічого, він 4 рази знаходить кораблі й 1 раз машинку, а замість того, щоб знайти машинку, він 5 разів знаходить корабель і тд."
   ]
  },
  {
   "cell_type": "markdown",
   "metadata": {},
   "source": [
    "### Виводимо точність по cross validation"
   ]
  },
  {
   "cell_type": "code",
   "execution_count": 98,
   "metadata": {},
   "outputs": [
    {
     "name": "stdout",
     "output_type": "stream",
     "text": [
      "0.7432806324110672\n",
      "Wall time: 12.5 s\n"
     ]
    }
   ],
   "source": [
    "%%time\n",
    "from sklearn.model_selection import cross_val_score, KFold\n",
    "\n",
    "kf = KFold(shuffle=True, n_splits=10)\n",
    "print(cross_val_score(logreg, X, y, cv=kf, scoring='accuracy').mean())"
   ]
  },
  {
   "cell_type": "markdown",
   "metadata": {},
   "source": [
    "#### P.S. У майбутньому користуватимемось цією метрикою, як основною при порівнянні класифікаторів"
   ]
  },
  {
   "cell_type": "markdown",
   "metadata": {},
   "source": [
    "## Будуємо бінарний класифіктор"
   ]
  },
  {
   "cell_type": "code",
   "execution_count": 61,
   "metadata": {},
   "outputs": [
    {
     "name": "stdout",
     "output_type": "stream",
     "text": [
      "151.jpg has less than 500 features!\n",
      "171.jpg has less than 500 features!\n",
      "172.jpg has less than 500 features!\n",
      "174.jpg has less than 500 features!\n",
      "175.jpg has less than 500 features!\n",
      "176.jpg has less than 500 features!\n",
      "178.jpg has less than 500 features!\n",
      "202.jpg has less than 500 features!\n",
      "203.jpg has less than 500 features!\n",
      "204.jpg has less than 500 features!\n",
      "225.jpg has less than 500 features!\n",
      "236.jpg has less than 500 features!\n",
      "239.jpg has less than 500 features!\n",
      "240.jpg has less than 500 features!\n",
      "241.jpg hasn't got any features!\n",
      "246.jpg has less than 500 features!\n",
      "255.jpg has less than 500 features!\n",
      "258.jpg has less than 500 features!\n",
      "259.jpg has less than 500 features!\n",
      "263.jpg has less than 500 features!\n",
      "264.jpg has less than 500 features!\n",
      "265.jpg has less than 500 features!\n",
      "267.jpg hasn't got any features!\n",
      "268.jpg has less than 500 features!\n",
      "269.jpg hasn't got any features!\n",
      "30.jpg has less than 500 features!\n",
      "34.jpg has less than 500 features!\n",
      "35.jpg has less than 500 features!\n",
      "36.jpg has less than 500 features!\n",
      "38.jpg has less than 500 features!\n",
      "39.jpg hasn't got any features!\n",
      "46.jpg hasn't got any features!\n",
      "47.jpg has less than 500 features!\n",
      "58.jpg has less than 500 features!\n",
      "59.jpg has less than 500 features!\n",
      "72.jpg has less than 500 features!\n",
      "82.jpg has less than 500 features!\n",
      "83.jpg has less than 500 features!\n",
      "84.jpg has less than 500 features!\n",
      "85.jpg has less than 500 features!\n",
      "86.jpg has less than 500 features!\n",
      "87.jpg has less than 500 features!\n",
      "88.jpg has less than 500 features!\n",
      "91.jpg hasn't got any features!\n",
      "92.jpg hasn't got any features!\n",
      "93.jpg hasn't got any features!\n",
      "94.jpg has less than 500 features!\n",
      "95.jpg has less than 500 features!\n",
      "\n",
      "X shape: (191, 16000)\n",
      "y shape: (191,)\n"
     ]
    }
   ],
   "source": [
    "X, y, X_dict = create_X_and_y(n_features, directory_test, include_other_photos=False)\n",
    "\n",
    "print()\n",
    "print(\"X shape:\", X.shape)\n",
    "print(\"y shape:\", y.shape)"
   ]
  },
  {
   "cell_type": "markdown",
   "metadata": {},
   "source": [
    "### Розділяємо вибірку на train та test"
   ]
  },
  {
   "cell_type": "code",
   "execution_count": 63,
   "metadata": {},
   "outputs": [
    {
     "name": "stdout",
     "output_type": "stream",
     "text": [
      "X_train shape: (143, 16000)\n",
      "y_train shape: (143,)\n",
      "X_test shape: (48, 16000)\n",
      "y_test shape: (48,)\n"
     ]
    }
   ],
   "source": [
    "X_train, X_test, y_train, y_test = train_test_split(X, y, test_size=0.25, random_state=8)\n",
    "\n",
    "print(\"X_train shape:\", X_train.shape)\n",
    "print(\"y_train shape:\", y_train.shape)\n",
    "print(\"X_test shape:\", X_test.shape)\n",
    "print(\"y_test shape:\", y_test.shape)"
   ]
  },
  {
   "cell_type": "markdown",
   "metadata": {},
   "source": [
    "### Використовуємо Logistic Regression як наш класифікатор"
   ]
  },
  {
   "cell_type": "code",
   "execution_count": 64,
   "metadata": {},
   "outputs": [],
   "source": [
    "logreg = LogisticRegression(solver='liblinear', multi_class='auto')\n",
    "logreg.fit(X_train, y_train)\n",
    "\n",
    "y_pred = logreg.predict(X_test)"
   ]
  },
  {
   "cell_type": "markdown",
   "metadata": {},
   "source": [
    "### Виводимо точність для одного із train_test_split"
   ]
  },
  {
   "cell_type": "code",
   "execution_count": 65,
   "metadata": {},
   "outputs": [
    {
     "name": "stdout",
     "output_type": "stream",
     "text": [
      "0.8958333333333334\n"
     ]
    }
   ],
   "source": [
    "print(metrics.accuracy_score(y_test, y_pred))"
   ]
  },
  {
   "cell_type": "markdown",
   "metadata": {},
   "source": [
    "### Виводимо confusion matrix"
   ]
  },
  {
   "cell_type": "code",
   "execution_count": 66,
   "metadata": {},
   "outputs": [
    {
     "name": "stdout",
     "output_type": "stream",
     "text": [
      "[[22  2]\n",
      " [ 3 21]]\n"
     ]
    }
   ],
   "source": [
    "print(metrics.confusion_matrix(y_test, y_pred))"
   ]
  },
  {
   "cell_type": "markdown",
   "metadata": {},
   "source": [
    "### Виводимо точність по cross validation"
   ]
  },
  {
   "cell_type": "code",
   "execution_count": 67,
   "metadata": {},
   "outputs": [
    {
     "name": "stdout",
     "output_type": "stream",
     "text": [
      "0.807280701754386\n"
     ]
    }
   ],
   "source": [
    "print(cross_val_score(logreg, X, y, cv=kf, scoring='accuracy').mean())"
   ]
  },
  {
   "cell_type": "markdown",
   "metadata": {},
   "source": [
    "Останню точність ми й вважаємо нашою основною метрикою при порівнянні класифікаторів, тому ми бачимо, що вона зросла на 10% у порівнянні із попереднім тернарним класифікатором, тобто в 4 із 5 випадків класифікатор правильно знаходить чи машинка на зображенні, чи корабель, що я вважаю мега-круто, як для такої невеличкої трейн вибірки (лише 143 об'єкти)."
   ]
  },
  {
   "cell_type": "markdown",
   "metadata": {},
   "source": [
    "## Розглядаємо інші класифікатори"
   ]
  },
  {
   "cell_type": "markdown",
   "metadata": {},
   "source": [
    "Розглянемо ще кілька класифікаторів і подивимося, яку точінсть видають вони для тернарного класифікатору (випадок, коли в трейн вибірці є зображення або із машинкою, або із кораблем, або без нічого). Як і раніше, вважатимемо за основну метрику середній результат точності cross validation (уже знаємо, що для логістичної цей показник становить близько 70%)."
   ]
  },
  {
   "cell_type": "code",
   "execution_count": 115,
   "metadata": {},
   "outputs": [
    {
     "name": "stdout",
     "output_type": "stream",
     "text": [
      "151.jpg has less than 500 features!\n",
      "171.jpg has less than 500 features!\n",
      "172.jpg has less than 500 features!\n",
      "174.jpg has less than 500 features!\n",
      "175.jpg has less than 500 features!\n",
      "176.jpg has less than 500 features!\n",
      "178.jpg has less than 500 features!\n",
      "202.jpg has less than 500 features!\n",
      "203.jpg has less than 500 features!\n",
      "204.jpg has less than 500 features!\n",
      "225.jpg has less than 500 features!\n",
      "236.jpg has less than 500 features!\n",
      "239.jpg has less than 500 features!\n",
      "240.jpg has less than 500 features!\n",
      "241.jpg hasn't got any features!\n",
      "246.jpg has less than 500 features!\n",
      "255.jpg has less than 500 features!\n",
      "258.jpg has less than 500 features!\n",
      "259.jpg has less than 500 features!\n",
      "263.jpg has less than 500 features!\n",
      "264.jpg has less than 500 features!\n",
      "265.jpg has less than 500 features!\n",
      "267.jpg hasn't got any features!\n",
      "268.jpg has less than 500 features!\n",
      "269.jpg hasn't got any features!\n",
      "30.jpg has less than 500 features!\n",
      "34.jpg has less than 500 features!\n",
      "35.jpg has less than 500 features!\n",
      "36.jpg has less than 500 features!\n",
      "38.jpg has less than 500 features!\n",
      "39.jpg hasn't got any features!\n",
      "46.jpg hasn't got any features!\n",
      "47.jpg has less than 500 features!\n",
      "58.jpg has less than 500 features!\n",
      "59.jpg has less than 500 features!\n",
      "72.jpg has less than 500 features!\n",
      "82.jpg has less than 500 features!\n",
      "83.jpg has less than 500 features!\n",
      "84.jpg has less than 500 features!\n",
      "85.jpg has less than 500 features!\n",
      "86.jpg has less than 500 features!\n",
      "87.jpg has less than 500 features!\n",
      "88.jpg has less than 500 features!\n",
      "91.jpg hasn't got any features!\n",
      "92.jpg hasn't got any features!\n",
      "93.jpg hasn't got any features!\n",
      "94.jpg has less than 500 features!\n",
      "95.jpg has less than 500 features!\n",
      "\n",
      "X shape: (221, 16000)\n",
      "y shape: (221,)\n"
     ]
    }
   ],
   "source": [
    "X, y, X_dict = create_X_and_y(n_features, directory_test, include_other_photos=True)\n",
    "\n",
    "print()\n",
    "print(\"X shape:\", X.shape)\n",
    "print(\"y shape:\", y.shape)"
   ]
  },
  {
   "cell_type": "markdown",
   "metadata": {},
   "source": [
    "### Використовуємо SVM with linear kernel як наш класифікатор"
   ]
  },
  {
   "cell_type": "code",
   "execution_count": 130,
   "metadata": {},
   "outputs": [
    {
     "name": "stdout",
     "output_type": "stream",
     "text": [
      "0.7100790513833992\n",
      "Wall time: 12.5 s\n"
     ]
    }
   ],
   "source": [
    "%%time\n",
    "from sklearn.svm import SVC\n",
    "\n",
    "svm = SVC(kernel='linear')\n",
    "print(cross_val_score(svm, X, y, cv=kf, scoring='accuracy').mean())"
   ]
  },
  {
   "cell_type": "markdown",
   "metadata": {},
   "source": [
    "### Використовуємо SVM with polynomial kernel як наш класифікатор"
   ]
  },
  {
   "cell_type": "code",
   "execution_count": 132,
   "metadata": {},
   "outputs": [
    {
     "name": "stdout",
     "output_type": "stream",
     "text": [
      "0.7108319217014868\n",
      "Wall time: 12.8 s\n"
     ]
    }
   ],
   "source": [
    "%%time\n",
    "svm = SVC(kernel='poly', gamma='scale')\n",
    "print(cross_val_score(svm, X, y, cv=10, scoring='accuracy').mean())"
   ]
  },
  {
   "cell_type": "markdown",
   "metadata": {},
   "source": [
    "### Використовуємо PCA\n",
    "\n",
    "До цього моменту ми розглядали класифікатори, які ідеально підходять для випадку, коли кількість фіч набагато більша за кількість трейн екзамплів (у нас 16000 проти 165). Зараз же зменшимо розмірність нашої матриці X із [221x16000] до [221x100] за допомогою Principal Component Analysis (PCA)."
   ]
  },
  {
   "cell_type": "code",
   "execution_count": 20,
   "metadata": {},
   "outputs": [],
   "source": [
    "from sklearn.decomposition import PCA\n",
    "\n",
    "pca = PCA(n_components=100)\n",
    "X_pca = pca.fit_transform(X)"
   ]
  },
  {
   "cell_type": "markdown",
   "metadata": {},
   "source": [
    "### Використовуємо SVM with Gaussian kernel with PCA як наш класифікатор"
   ]
  },
  {
   "cell_type": "code",
   "execution_count": 135,
   "metadata": {},
   "outputs": [
    {
     "name": "stdout",
     "output_type": "stream",
     "text": [
      "0.7193675889328064\n",
      "Wall time: 99 ms\n"
     ]
    }
   ],
   "source": [
    "%%time\n",
    "svm = SVC(kernel='rbf', gamma='scale')\n",
    "print(cross_val_score(svm, X_pca, y, cv=kf, scoring='accuracy').mean())"
   ]
  },
  {
   "cell_type": "markdown",
   "metadata": {},
   "source": [
    "### Використовуємо Random Forest with PCA як наш класифікатор"
   ]
  },
  {
   "cell_type": "code",
   "execution_count": 139,
   "metadata": {},
   "outputs": [
    {
     "name": "stdout",
     "output_type": "stream",
     "text": [
      "0.7108695652173912\n",
      "Wall time: 2.42 s\n"
     ]
    }
   ],
   "source": [
    "%%time\n",
    "from sklearn.ensemble import RandomForestClassifier\n",
    "\n",
    "rfc = RandomForestClassifier(n_estimators=200)\n",
    "print(cross_val_score(rfc, X_pca, y, cv=kf, scoring='accuracy').mean())\n",
    "\n",
    "# from sklearn.model_selection import GridSearchCV\n",
    "# param_grid = dict(n_estimators=[100, 200, 300, 400, 500, 600, 700, 800, 900, 1000])\n",
    "# grid = GridSearchCV(rfc, param_grid, cv=10, scoring='accuracy', return_train_score=False)\n",
    "# grid.fit(X_pca, y)\n",
    "# print(grid.best_score_)\n",
    "# print(grid.best_params_)"
   ]
  },
  {
   "cell_type": "markdown",
   "metadata": {},
   "source": [
    "### Використовуємо Decision Trees with PCA як наш класифікатор"
   ]
  },
  {
   "cell_type": "code",
   "execution_count": 157,
   "metadata": {},
   "outputs": [
    {
     "name": "stdout",
     "output_type": "stream",
     "text": [
      "0.6563241106719369\n",
      "Wall time: 119 ms\n"
     ]
    }
   ],
   "source": [
    "%%time\n",
    "from sklearn.tree import DecisionTreeClassifier\n",
    "\n",
    "dtc = DecisionTreeClassifier()\n",
    "print(cross_val_score(dtc, X_pca, y, cv=kf, scoring='accuracy').mean())"
   ]
  },
  {
   "cell_type": "markdown",
   "metadata": {},
   "source": [
    "### Використовуємо NN with special PCA як наш класифікатор"
   ]
  },
  {
   "cell_type": "markdown",
   "metadata": {},
   "source": [
    "Я спробував заранити нейронку із sklearn аналогічно до попередніх класифікаторів на матриці розмірності [221x100], проте получив не дужеее поганий результат, близько 45% по cross_validation і вона чомусь завжди прогнозувала тільки 1, або тільки 2, що взагалі не вірно. Тому я вирішив скористатися методом Андрія, який для кожного набору дескрипторів використовував PCA із n_components = 1 і робив із матриці розмірності [2222x64] матрицю розмірності [1x64]. Я спробував піти аналогічним шляхом (весь коди трішки нижче) і в такому разі точність нейронки склала приблизно 64% по cross_validation, що впринципі краще, проте далеко від ідеалу (та ж Логістична й SVM без зтискання даних давали більше 70%)."
   ]
  },
  {
   "cell_type": "code",
   "execution_count": 24,
   "metadata": {},
   "outputs": [],
   "source": [
    "def create_X_and_y_pca(n_features, directory_test):\n",
    "    X = []\n",
    "    y = []\n",
    "    orb = cv2.ORB_create(nfeatures=n_features)\n",
    "    pca = PCA(n_components=1)\n",
    "    \n",
    "    for filename in os.listdir(directory_test):\n",
    "        path = directory_test + '\\\\\\\\' + filename\n",
    "        img = cv2.imread(path, cv2.IMREAD_GRAYSCALE)\n",
    "        kp, des = orb.detectAndCompute(img, None)\n",
    "        id = int(filename.split('.')[0])\n",
    "        try:\n",
    "            size = des.shape[0]\n",
    "        except:\n",
    "            print(filename, \"hasn't got any features!\")\n",
    "            continue\n",
    "        X_pca = pca.fit_transform(des.T)  # .reshape(1,-1)\n",
    "        X.append(X_pca)\n",
    "        # print(id, \"has been processed!\")\n",
    "        if id < 120:\n",
    "            y.append(2)\n",
    "        elif id > 225:\n",
    "            y.append(0)\n",
    "        else:\n",
    "            y.append(1)\n",
    "            \n",
    "    X = np.asarray(X)\n",
    "    X = X.reshape(X.shape[0], -1)\n",
    "    y = np.asarray(y)\n",
    "                \n",
    "    return X, y"
   ]
  },
  {
   "cell_type": "code",
   "execution_count": 30,
   "metadata": {},
   "outputs": [
    {
     "name": "stdout",
     "output_type": "stream",
     "text": [
      "241.jpg hasn't got any features!\n",
      "267.jpg hasn't got any features!\n",
      "269.jpg hasn't got any features!\n",
      "39.jpg hasn't got any features!\n",
      "46.jpg hasn't got any features!\n",
      "91.jpg hasn't got any features!\n",
      "92.jpg hasn't got any features!\n",
      "93.jpg hasn't got any features!\n",
      "\n",
      "X shape: (261, 32)\n",
      "y shape: (261,)\n"
     ]
    }
   ],
   "source": [
    "X_for_nn, y_for_nn = create_X_and_y_pca(n_features, directory_test)\n",
    "\n",
    "print()\n",
    "print(\"X shape:\", X_for_nn.shape)\n",
    "print(\"y shape:\", y_for_nn.shape)"
   ]
  },
  {
   "cell_type": "code",
   "execution_count": 166,
   "metadata": {},
   "outputs": [
    {
     "name": "stdout",
     "output_type": "stream",
     "text": [
      "0.6509971509971509\n",
      "Wall time: 2.01 s\n"
     ]
    }
   ],
   "source": [
    "%%time\n",
    "from sklearn.neural_network import MLPClassifier\n",
    "\n",
    "nn = MLPClassifier(hidden_layer_sizes=(200,))\n",
    "kf = KFold(shuffle=True, n_splits=10)\n",
    "print(cross_val_score(nn, X_for_nn, y_for_nn, cv=kf, scoring='accuracy').mean())"
   ]
  },
  {
   "cell_type": "markdown",
   "metadata": {},
   "source": [
    "## Приступаємо до роботи із відео"
   ]
  },
  {
   "cell_type": "markdown",
   "metadata": {},
   "source": [
    "### Розбиваємо відео на кадри"
   ]
  },
  {
   "cell_type": "code",
   "execution_count": 192,
   "metadata": {},
   "outputs": [],
   "source": [
    "vidcap = cv2.VideoCapture('video.mp4')\n",
    "success, image = vidcap.read()\n",
    "count = 0\n",
    "while success:\n",
    "    new_count = 1000 + count\n",
    "    cv2.imwrite(\"video_frames/%d.jpg\" % new_count, image)     # save frame as JPEG file      \n",
    "    success, image = vidcap.read()\n",
    "    count += 1"
   ]
  },
  {
   "cell_type": "markdown",
   "metadata": {},
   "source": [
    "### Функції для створення різних X_test для різних класифікаторів"
   ]
  },
  {
   "cell_type": "code",
   "execution_count": 193,
   "metadata": {},
   "outputs": [],
   "source": [
    "def create_X_for_lr(n_features, directory_test):\n",
    "    X = []\n",
    "    ids = []\n",
    "    ids_for_zero = []\n",
    "    orb = cv2.ORB_create(nfeatures=n_features)\n",
    "    \n",
    "    for index, filename in enumerate(os.listdir(directory_test)):\n",
    "        path = directory_test + '\\\\\\\\' + filename\n",
    "        img = cv2.imread(path, cv2.IMREAD_GRAYSCALE)\n",
    "        kp, des = orb.detectAndCompute(img, None)\n",
    "        try:\n",
    "            size = des.shape[0]\n",
    "        except:\n",
    "            ids_for_zero.append(index)\n",
    "            print(index, \":\", filename, \"hasn't got any features!\")\n",
    "            continue\n",
    "        if size == 500:\n",
    "            ids.append(index)\n",
    "            X.append(des)\n",
    "        else:\n",
    "            ids_for_zero.append(index)\n",
    "            print(index, \":\", filename, \"has less than 500 features!\")\n",
    "                    \n",
    "    X = np.asarray(X)\n",
    "    X = X.reshape(X.shape[0], -1)\n",
    "    \n",
    "    return X, ids, ids_for_zero\n",
    "\n",
    "def create_X_for_nn(n_features, directory_test):\n",
    "    X = []\n",
    "    ids = []\n",
    "    ids_for_zero = []\n",
    "    orb = cv2.ORB_create(nfeatures=n_features)\n",
    "    pca = PCA(n_components=1)\n",
    "    \n",
    "    for index, filename in enumerate(os.listdir(directory_test)):\n",
    "        path = directory_test + '\\\\\\\\' + filename\n",
    "        img = cv2.imread(path, cv2.IMREAD_GRAYSCALE)\n",
    "        kp, des = orb.detectAndCompute(img, None)\n",
    "        try:\n",
    "            size = des.shape[0]\n",
    "        except:\n",
    "            ids_for_zero.append(index)\n",
    "            print(index, \":\", filename, \"hasn't got any features!\")\n",
    "            continue\n",
    "        X_pca = pca.fit_transform(des.T)\n",
    "        ids.append(index)\n",
    "        X.append(X_pca)\n",
    "            \n",
    "    X = np.asarray(X)\n",
    "    X = X.reshape(X.shape[0], -1)\n",
    "                \n",
    "    return X, ids, ids_for_zero\n",
    "\n",
    "def add_zeros(y_pred, ids, ids_for_zero):\n",
    "    size = len(ids) + len(ids_for_zero)\n",
    "    y_pred_with_zeros = np.zeros((size), dtype=int)\n",
    "    for i in range(len(ids)):\n",
    "        y_pred_with_zeros[ids[i]] = y_pred[i]\n",
    "    return y_pred_with_zeros"
   ]
  },
  {
   "cell_type": "markdown",
   "metadata": {},
   "source": [
    "### Функція для збереження відео із текстовим оверлеєм"
   ]
  },
  {
   "cell_type": "code",
   "execution_count": 203,
   "metadata": {},
   "outputs": [],
   "source": [
    "def make_video(y_pred, classifier):\n",
    "    from PIL import Image, ImageDraw, ImageFont\n",
    "    i = 0\n",
    "    \n",
    "    for filename in glob.glob('video_frames/*.jpg'):\n",
    "\n",
    "        #Create an Image Object from an Image\n",
    "        im = Image.open(filename)\n",
    "        photo_index = filename.split('\\\\')[1].split('.')[0]\n",
    "        width, height = im.size\n",
    "        draw = ImageDraw.Draw(im)\n",
    "\n",
    "        if y_pred[i] == 0:\n",
    "            text = \"other object\"\n",
    "        if y_pred[i] == 1:\n",
    "            text = \"car\"\n",
    "        if y_pred[i] == 2:\n",
    "            text = \"ship\"\n",
    "\n",
    "        font = ImageFont.truetype('arial.ttf', 36)\n",
    "        textwidth, textheight = draw.textsize(text, font)\n",
    "\n",
    "        # calculate the x,y coordinates of the text\n",
    "        margin = 10\n",
    "        x = width - textwidth - margin\n",
    "        y = height - textheight - margin\n",
    "\n",
    "        # draw watermark in the bottom right corner\n",
    "        draw.text((x, y), text, font=font)\n",
    "\n",
    "        #Save watermarked image\n",
    "        im.save('Storage/' + classifier + '/' + photo_index + '.jpg')\n",
    "        \n",
    "        i += 1\n",
    "        \n",
    "    img_array = [0 for i in range(len(glob.glob('Storage/' + classifier + '/' + '*.jpg')))]\n",
    "    i = 0 \n",
    "\n",
    "    for filename in glob.glob('Storage/' + classifier + '/' + '*.jpg'):\n",
    "        img = cv2.imread(filename)\n",
    "        height, width, layers = img.shape\n",
    "        size = (width, height)\n",
    "        ind = int(filename.split('\\\\')[1].split('.')[0]) - 1000\n",
    "        img_array[ind] = img\n",
    "        i += 1\n",
    "\n",
    "    out = cv2.VideoWriter('result_for_' + classifier + '.mp4', cv2.VideoWriter_fourcc(*'DIVX'), 30, size)\n",
    "\n",
    "    for i in range(len(img_array)):\n",
    "        out.write(img_array[i])\n",
    "    out.release()\n",
    "    \n",
    "    print(\"Video has been successfully created!\")"
   ]
  },
  {
   "cell_type": "markdown",
   "metadata": {},
   "source": [
    "### Обробка відео із Linear Regression"
   ]
  },
  {
   "cell_type": "code",
   "execution_count": 195,
   "metadata": {},
   "outputs": [
    {
     "name": "stdout",
     "output_type": "stream",
     "text": [
      "0 : 1000.jpg has less than 500 features!\n",
      "1 : 1001.jpg has less than 500 features!\n",
      "2 : 1002.jpg has less than 500 features!\n",
      "3 : 1003.jpg has less than 500 features!\n",
      "4 : 1004.jpg has less than 500 features!\n",
      "5 : 1005.jpg has less than 500 features!\n",
      "6 : 1006.jpg has less than 500 features!\n",
      "7 : 1007.jpg has less than 500 features!\n",
      "8 : 1008.jpg has less than 500 features!\n",
      "9 : 1009.jpg has less than 500 features!\n",
      "10 : 1010.jpg has less than 500 features!\n",
      "11 : 1011.jpg has less than 500 features!\n",
      "12 : 1012.jpg has less than 500 features!\n",
      "13 : 1013.jpg has less than 500 features!\n",
      "14 : 1014.jpg has less than 500 features!\n",
      "15 : 1015.jpg has less than 500 features!\n",
      "16 : 1016.jpg has less than 500 features!\n",
      "17 : 1017.jpg has less than 500 features!\n",
      "18 : 1018.jpg has less than 500 features!\n",
      "19 : 1019.jpg has less than 500 features!\n",
      "20 : 1020.jpg has less than 500 features!\n",
      "21 : 1021.jpg has less than 500 features!\n",
      "22 : 1022.jpg has less than 500 features!\n",
      "23 : 1023.jpg has less than 500 features!\n",
      "24 : 1024.jpg has less than 500 features!\n",
      "25 : 1025.jpg has less than 500 features!\n",
      "26 : 1026.jpg has less than 500 features!\n",
      "27 : 1027.jpg has less than 500 features!\n",
      "28 : 1028.jpg has less than 500 features!\n",
      "29 : 1029.jpg has less than 500 features!\n",
      "30 : 1030.jpg has less than 500 features!\n",
      "31 : 1031.jpg has less than 500 features!\n",
      "32 : 1032.jpg has less than 500 features!\n",
      "33 : 1033.jpg has less than 500 features!\n",
      "34 : 1034.jpg has less than 500 features!\n",
      "35 : 1035.jpg has less than 500 features!\n",
      "36 : 1036.jpg has less than 500 features!\n",
      "37 : 1037.jpg has less than 500 features!\n",
      "38 : 1038.jpg has less than 500 features!\n",
      "39 : 1039.jpg has less than 500 features!\n",
      "40 : 1040.jpg has less than 500 features!\n",
      "41 : 1041.jpg has less than 500 features!\n",
      "42 : 1042.jpg has less than 500 features!\n",
      "43 : 1043.jpg has less than 500 features!\n",
      "44 : 1044.jpg has less than 500 features!\n",
      "45 : 1045.jpg has less than 500 features!\n",
      "46 : 1046.jpg has less than 500 features!\n",
      "47 : 1047.jpg has less than 500 features!\n",
      "48 : 1048.jpg has less than 500 features!\n",
      "49 : 1049.jpg has less than 500 features!\n",
      "50 : 1050.jpg has less than 500 features!\n",
      "51 : 1051.jpg has less than 500 features!\n",
      "52 : 1052.jpg has less than 500 features!\n",
      "53 : 1053.jpg has less than 500 features!\n",
      "54 : 1054.jpg has less than 500 features!\n",
      "55 : 1055.jpg has less than 500 features!\n",
      "56 : 1056.jpg has less than 500 features!\n",
      "57 : 1057.jpg has less than 500 features!\n",
      "58 : 1058.jpg has less than 500 features!\n",
      "59 : 1059.jpg has less than 500 features!\n",
      "60 : 1060.jpg has less than 500 features!\n",
      "61 : 1061.jpg has less than 500 features!\n",
      "62 : 1062.jpg has less than 500 features!\n",
      "63 : 1063.jpg has less than 500 features!\n",
      "64 : 1064.jpg has less than 500 features!\n",
      "65 : 1065.jpg has less than 500 features!\n",
      "66 : 1066.jpg has less than 500 features!\n",
      "67 : 1067.jpg has less than 500 features!\n",
      "68 : 1068.jpg has less than 500 features!\n",
      "69 : 1069.jpg has less than 500 features!\n",
      "70 : 1070.jpg has less than 500 features!\n",
      "71 : 1071.jpg has less than 500 features!\n",
      "72 : 1072.jpg has less than 500 features!\n",
      "73 : 1073.jpg has less than 500 features!\n",
      "74 : 1074.jpg has less than 500 features!\n",
      "75 : 1075.jpg has less than 500 features!\n",
      "76 : 1076.jpg has less than 500 features!\n",
      "77 : 1077.jpg has less than 500 features!\n",
      "78 : 1078.jpg has less than 500 features!\n",
      "79 : 1079.jpg has less than 500 features!\n",
      "80 : 1080.jpg has less than 500 features!\n",
      "81 : 1081.jpg has less than 500 features!\n",
      "82 : 1082.jpg has less than 500 features!\n",
      "83 : 1083.jpg has less than 500 features!\n",
      "84 : 1084.jpg has less than 500 features!\n",
      "85 : 1085.jpg has less than 500 features!\n",
      "86 : 1086.jpg has less than 500 features!\n",
      "87 : 1087.jpg has less than 500 features!\n",
      "88 : 1088.jpg has less than 500 features!\n",
      "89 : 1089.jpg has less than 500 features!\n",
      "90 : 1090.jpg has less than 500 features!\n",
      "91 : 1091.jpg has less than 500 features!\n",
      "92 : 1092.jpg has less than 500 features!\n",
      "93 : 1093.jpg has less than 500 features!\n",
      "94 : 1094.jpg has less than 500 features!\n",
      "95 : 1095.jpg has less than 500 features!\n",
      "96 : 1096.jpg has less than 500 features!\n",
      "97 : 1097.jpg has less than 500 features!\n",
      "98 : 1098.jpg has less than 500 features!\n",
      "99 : 1099.jpg has less than 500 features!\n",
      "100 : 1100.jpg has less than 500 features!\n",
      "101 : 1101.jpg has less than 500 features!\n",
      "102 : 1102.jpg has less than 500 features!\n",
      "103 : 1103.jpg has less than 500 features!\n",
      "104 : 1104.jpg has less than 500 features!\n",
      "105 : 1105.jpg has less than 500 features!\n",
      "106 : 1106.jpg has less than 500 features!\n",
      "107 : 1107.jpg has less than 500 features!\n",
      "108 : 1108.jpg has less than 500 features!\n",
      "109 : 1109.jpg has less than 500 features!\n",
      "110 : 1110.jpg has less than 500 features!\n",
      "111 : 1111.jpg has less than 500 features!\n",
      "112 : 1112.jpg has less than 500 features!\n",
      "113 : 1113.jpg has less than 500 features!\n",
      "114 : 1114.jpg has less than 500 features!\n",
      "120 : 1120.jpg has less than 500 features!\n",
      "121 : 1121.jpg has less than 500 features!\n",
      "122 : 1122.jpg has less than 500 features!\n",
      "123 : 1123.jpg has less than 500 features!\n",
      "124 : 1124.jpg has less than 500 features!\n",
      "125 : 1125.jpg has less than 500 features!\n",
      "126 : 1126.jpg has less than 500 features!\n",
      "127 : 1127.jpg has less than 500 features!\n",
      "131 : 1131.jpg has less than 500 features!\n",
      "147 : 1147.jpg has less than 500 features!\n",
      "151 : 1151.jpg has less than 500 features!\n",
      "152 : 1152.jpg has less than 500 features!\n",
      "153 : 1153.jpg has less than 500 features!\n",
      "154 : 1154.jpg has less than 500 features!\n",
      "155 : 1155.jpg has less than 500 features!\n",
      "156 : 1156.jpg has less than 500 features!\n",
      "157 : 1157.jpg has less than 500 features!\n",
      "158 : 1158.jpg has less than 500 features!\n",
      "160 : 1160.jpg has less than 500 features!\n",
      "162 : 1162.jpg has less than 500 features!\n",
      "164 : 1164.jpg has less than 500 features!\n",
      "166 : 1166.jpg has less than 500 features!\n",
      "167 : 1167.jpg has less than 500 features!\n",
      "168 : 1168.jpg has less than 500 features!\n",
      "169 : 1169.jpg has less than 500 features!\n",
      "170 : 1170.jpg has less than 500 features!\n",
      "171 : 1171.jpg has less than 500 features!\n",
      "172 : 1172.jpg has less than 500 features!\n",
      "173 : 1173.jpg has less than 500 features!\n",
      "174 : 1174.jpg has less than 500 features!\n",
      "175 : 1175.jpg hasn't got any features!\n",
      "176 : 1176.jpg hasn't got any features!\n",
      "177 : 1177.jpg hasn't got any features!\n",
      "178 : 1178.jpg hasn't got any features!\n",
      "179 : 1179.jpg has less than 500 features!\n",
      "180 : 1180.jpg has less than 500 features!\n",
      "181 : 1181.jpg has less than 500 features!\n",
      "182 : 1182.jpg has less than 500 features!\n",
      "183 : 1183.jpg hasn't got any features!\n",
      "184 : 1184.jpg hasn't got any features!\n",
      "185 : 1185.jpg hasn't got any features!\n",
      "186 : 1186.jpg hasn't got any features!\n",
      "187 : 1187.jpg hasn't got any features!\n",
      "188 : 1188.jpg hasn't got any features!\n",
      "189 : 1189.jpg hasn't got any features!\n",
      "190 : 1190.jpg hasn't got any features!\n",
      "191 : 1191.jpg hasn't got any features!\n",
      "192 : 1192.jpg hasn't got any features!\n",
      "193 : 1193.jpg hasn't got any features!\n",
      "194 : 1194.jpg hasn't got any features!\n",
      "195 : 1195.jpg hasn't got any features!\n",
      "196 : 1196.jpg hasn't got any features!\n",
      "197 : 1197.jpg hasn't got any features!\n",
      "198 : 1198.jpg hasn't got any features!\n",
      "199 : 1199.jpg hasn't got any features!\n",
      "200 : 1200.jpg has less than 500 features!\n",
      "201 : 1201.jpg has less than 500 features!\n",
      "202 : 1202.jpg has less than 500 features!\n",
      "203 : 1203.jpg has less than 500 features!\n",
      "252 : 1252.jpg has less than 500 features!\n",
      "253 : 1253.jpg has less than 500 features!\n",
      "254 : 1254.jpg hasn't got any features!\n",
      "255 : 1255.jpg hasn't got any features!\n",
      "256 : 1256.jpg hasn't got any features!\n",
      "257 : 1257.jpg hasn't got any features!\n",
      "258 : 1258.jpg hasn't got any features!\n",
      "259 : 1259.jpg hasn't got any features!\n",
      "260 : 1260.jpg hasn't got any features!\n",
      "261 : 1261.jpg hasn't got any features!\n",
      "262 : 1262.jpg hasn't got any features!\n",
      "263 : 1263.jpg hasn't got any features!\n",
      "264 : 1264.jpg hasn't got any features!\n",
      "265 : 1265.jpg hasn't got any features!\n",
      "266 : 1266.jpg hasn't got any features!\n",
      "267 : 1267.jpg hasn't got any features!\n",
      "268 : 1268.jpg hasn't got any features!\n",
      "269 : 1269.jpg hasn't got any features!\n",
      "270 : 1270.jpg hasn't got any features!\n",
      "271 : 1271.jpg hasn't got any features!\n",
      "272 : 1272.jpg hasn't got any features!\n",
      "273 : 1273.jpg hasn't got any features!\n",
      "274 : 1274.jpg hasn't got any features!\n",
      "275 : 1275.jpg hasn't got any features!\n",
      "276 : 1276.jpg hasn't got any features!\n",
      "277 : 1277.jpg hasn't got any features!\n",
      "278 : 1278.jpg hasn't got any features!\n",
      "279 : 1279.jpg hasn't got any features!\n",
      "280 : 1280.jpg hasn't got any features!\n",
      "281 : 1281.jpg has less than 500 features!\n",
      "282 : 1282.jpg has less than 500 features!\n",
      "283 : 1283.jpg has less than 500 features!\n"
     ]
    },
    {
     "name": "stdout",
     "output_type": "stream",
     "text": [
      "284 : 1284.jpg has less than 500 features!\n",
      "290 : 1290.jpg has less than 500 features!\n",
      "302 : 1302.jpg has less than 500 features!\n",
      "522 : 1522.jpg has less than 500 features!\n",
      "523 : 1523.jpg has less than 500 features!\n",
      "527 : 1527.jpg has less than 500 features!\n",
      "535 : 1535.jpg has less than 500 features!\n",
      "540 : 1540.jpg has less than 500 features!\n",
      "543 : 1543.jpg has less than 500 features!\n",
      "544 : 1544.jpg has less than 500 features!\n",
      "545 : 1545.jpg has less than 500 features!\n",
      "546 : 1546.jpg has less than 500 features!\n",
      "547 : 1547.jpg has less than 500 features!\n",
      "548 : 1548.jpg has less than 500 features!\n",
      "549 : 1549.jpg has less than 500 features!\n",
      "550 : 1550.jpg has less than 500 features!\n",
      "568 : 1568.jpg has less than 500 features!\n",
      "569 : 1569.jpg has less than 500 features!\n",
      "570 : 1570.jpg has less than 500 features!\n",
      "571 : 1571.jpg has less than 500 features!\n",
      "572 : 1572.jpg has less than 500 features!\n",
      "573 : 1573.jpg has less than 500 features!\n",
      "574 : 1574.jpg has less than 500 features!\n",
      "575 : 1575.jpg has less than 500 features!\n",
      "576 : 1576.jpg has less than 500 features!\n",
      "577 : 1577.jpg has less than 500 features!\n",
      "578 : 1578.jpg has less than 500 features!\n",
      "579 : 1579.jpg has less than 500 features!\n",
      "580 : 1580.jpg hasn't got any features!\n",
      "581 : 1581.jpg has less than 500 features!\n",
      "582 : 1582.jpg has less than 500 features!\n",
      "583 : 1583.jpg has less than 500 features!\n",
      "584 : 1584.jpg has less than 500 features!\n",
      "585 : 1585.jpg has less than 500 features!\n",
      "586 : 1586.jpg has less than 500 features!\n",
      "587 : 1587.jpg has less than 500 features!\n",
      "588 : 1588.jpg has less than 500 features!\n",
      "589 : 1589.jpg has less than 500 features!\n",
      "590 : 1590.jpg has less than 500 features!\n",
      "591 : 1591.jpg has less than 500 features!\n",
      "592 : 1592.jpg has less than 500 features!\n",
      "593 : 1593.jpg has less than 500 features!\n",
      "594 : 1594.jpg has less than 500 features!\n",
      "595 : 1595.jpg has less than 500 features!\n",
      "596 : 1596.jpg has less than 500 features!\n",
      "597 : 1597.jpg has less than 500 features!\n",
      "598 : 1598.jpg has less than 500 features!\n",
      "599 : 1599.jpg has less than 500 features!\n",
      "600 : 1600.jpg has less than 500 features!\n",
      "601 : 1601.jpg has less than 500 features!\n",
      "602 : 1602.jpg has less than 500 features!\n",
      "603 : 1603.jpg has less than 500 features!\n",
      "604 : 1604.jpg has less than 500 features!\n",
      "605 : 1605.jpg has less than 500 features!\n",
      "606 : 1606.jpg has less than 500 features!\n",
      "607 : 1607.jpg has less than 500 features!\n",
      "608 : 1608.jpg hasn't got any features!\n",
      "609 : 1609.jpg hasn't got any features!\n",
      "610 : 1610.jpg has less than 500 features!\n",
      "611 : 1611.jpg has less than 500 features!\n",
      "612 : 1612.jpg has less than 500 features!\n",
      "613 : 1613.jpg has less than 500 features!\n",
      "614 : 1614.jpg has less than 500 features!\n",
      "615 : 1615.jpg has less than 500 features!\n",
      "616 : 1616.jpg has less than 500 features!\n",
      "617 : 1617.jpg has less than 500 features!\n",
      "618 : 1618.jpg has less than 500 features!\n",
      "619 : 1619.jpg has less than 500 features!\n",
      "620 : 1620.jpg has less than 500 features!\n",
      "621 : 1621.jpg has less than 500 features!\n",
      "622 : 1622.jpg has less than 500 features!\n",
      "623 : 1623.jpg has less than 500 features!\n",
      "624 : 1624.jpg has less than 500 features!\n",
      "625 : 1625.jpg has less than 500 features!\n",
      "626 : 1626.jpg has less than 500 features!\n",
      "627 : 1627.jpg has less than 500 features!\n",
      "628 : 1628.jpg has less than 500 features!\n",
      "629 : 1629.jpg has less than 500 features!\n",
      "630 : 1630.jpg has less than 500 features!\n",
      "631 : 1631.jpg has less than 500 features!\n",
      "632 : 1632.jpg has less than 500 features!\n",
      "633 : 1633.jpg has less than 500 features!\n",
      "634 : 1634.jpg has less than 500 features!\n",
      "635 : 1635.jpg has less than 500 features!\n",
      "636 : 1636.jpg has less than 500 features!\n",
      "637 : 1637.jpg has less than 500 features!\n",
      "638 : 1638.jpg has less than 500 features!\n",
      "639 : 1639.jpg has less than 500 features!\n",
      "\n",
      "X_test_video shape: (346, 16000)\n"
     ]
    }
   ],
   "source": [
    "X_test_video, ids_lr, ids_for_zero_lr = create_X_for_lr(500, \"video_frames\")\n",
    "\n",
    "print()\n",
    "print(\"X_test_video shape:\", X_test_video.shape)"
   ]
  },
  {
   "cell_type": "code",
   "execution_count": 209,
   "metadata": {},
   "outputs": [
    {
     "name": "stdout",
     "output_type": "stream",
     "text": [
      "151.jpg has less than 500 features!\n",
      "171.jpg has less than 500 features!\n",
      "172.jpg has less than 500 features!\n",
      "174.jpg has less than 500 features!\n",
      "175.jpg has less than 500 features!\n",
      "176.jpg has less than 500 features!\n",
      "178.jpg has less than 500 features!\n",
      "202.jpg has less than 500 features!\n",
      "203.jpg has less than 500 features!\n",
      "204.jpg has less than 500 features!\n",
      "225.jpg has less than 500 features!\n",
      "236.jpg has less than 500 features!\n",
      "239.jpg has less than 500 features!\n",
      "240.jpg has less than 500 features!\n",
      "241.jpg hasn't got any features!\n",
      "246.jpg has less than 500 features!\n",
      "255.jpg has less than 500 features!\n",
      "258.jpg has less than 500 features!\n",
      "259.jpg has less than 500 features!\n",
      "263.jpg has less than 500 features!\n",
      "264.jpg has less than 500 features!\n",
      "265.jpg has less than 500 features!\n",
      "267.jpg hasn't got any features!\n",
      "268.jpg has less than 500 features!\n",
      "269.jpg hasn't got any features!\n",
      "30.jpg has less than 500 features!\n",
      "34.jpg has less than 500 features!\n",
      "35.jpg has less than 500 features!\n",
      "36.jpg has less than 500 features!\n",
      "38.jpg has less than 500 features!\n",
      "39.jpg hasn't got any features!\n",
      "46.jpg hasn't got any features!\n",
      "47.jpg has less than 500 features!\n",
      "58.jpg has less than 500 features!\n",
      "59.jpg has less than 500 features!\n",
      "72.jpg has less than 500 features!\n",
      "82.jpg has less than 500 features!\n",
      "83.jpg has less than 500 features!\n",
      "84.jpg has less than 500 features!\n",
      "85.jpg has less than 500 features!\n",
      "86.jpg has less than 500 features!\n",
      "87.jpg has less than 500 features!\n",
      "88.jpg has less than 500 features!\n",
      "91.jpg hasn't got any features!\n",
      "92.jpg hasn't got any features!\n",
      "93.jpg hasn't got any features!\n",
      "94.jpg has less than 500 features!\n",
      "95.jpg has less than 500 features!\n",
      "\n",
      "X shape: (221, 16000)\n",
      "y shape: (221,)\n"
     ]
    }
   ],
   "source": [
    "X, y, X_dict = create_X_and_y(n_features, directory_test, include_other_photos=True)\n",
    "\n",
    "print()\n",
    "print(\"X shape:\", X.shape)\n",
    "print(\"y shape:\", y.shape)"
   ]
  },
  {
   "cell_type": "code",
   "execution_count": 196,
   "metadata": {},
   "outputs": [
    {
     "data": {
      "text/plain": [
       "LogisticRegression(C=1.0, class_weight=None, dual=False, fit_intercept=True,\n",
       "                   intercept_scaling=1, l1_ratio=None, max_iter=100,\n",
       "                   multi_class='auto', n_jobs=None, penalty='l2',\n",
       "                   random_state=None, solver='liblinear', tol=0.0001, verbose=0,\n",
       "                   warm_start=False)"
      ]
     },
     "execution_count": 196,
     "metadata": {},
     "output_type": "execute_result"
    }
   ],
   "source": [
    "logreg = LogisticRegression(solver='liblinear', multi_class='auto')\n",
    "logreg.fit(X, y)"
   ]
  },
  {
   "cell_type": "code",
   "execution_count": 197,
   "metadata": {},
   "outputs": [],
   "source": [
    "y_pred_lr = logreg.predict(X_test_video)"
   ]
  },
  {
   "cell_type": "code",
   "execution_count": 198,
   "metadata": {},
   "outputs": [
    {
     "data": {
      "text/plain": [
       "array([1, 1, 1, 1, 1, 1, 2, 1, 1, 1, 1, 1, 1, 1, 1, 2, 1, 1, 1, 1, 1, 1,\n",
       "       1, 1, 1, 1, 1, 2, 2, 2, 1, 1, 1, 2, 1, 2, 1, 2, 1, 1, 2, 1, 1, 1,\n",
       "       1, 1, 1, 1, 1, 1, 1, 1, 1, 1, 1, 1, 1, 2, 1, 1, 1, 1, 2, 1, 1, 1,\n",
       "       1, 1, 2, 1, 2, 1, 2, 1, 1, 2, 1, 1, 2, 1, 1, 2, 1, 2, 2, 1, 2, 2,\n",
       "       1, 2, 1, 1, 1, 2, 1, 1, 1, 1, 1, 2, 1, 2, 1, 1, 2, 1, 1, 2, 1, 1,\n",
       "       2, 1, 1, 1, 1, 1, 2, 2, 1, 2, 2, 1, 2, 2, 2, 1, 2, 1, 1, 1, 1, 2,\n",
       "       2, 2, 1, 2, 2, 2, 2, 2, 2, 2, 2, 2, 1, 2, 2, 2, 2, 2, 2, 2, 2, 2,\n",
       "       2, 2, 2, 2, 2, 2, 2, 2, 2, 1, 1, 2, 2, 2, 1, 2, 2, 2, 2, 2, 2, 2,\n",
       "       1, 2, 1, 1, 2, 2, 2, 2, 2, 2, 2, 1, 2, 2, 2, 2, 2, 2, 2, 2, 2, 2,\n",
       "       2, 2, 2, 2, 2, 2, 2, 2, 2, 2, 2, 2, 2, 2, 2, 2, 2, 2, 2, 2, 2, 2,\n",
       "       2, 2, 2, 2, 2, 1, 2, 2, 2, 2, 2, 2, 2, 2, 2, 2, 2, 2, 2, 2, 2, 2,\n",
       "       1, 2, 2, 2, 2, 1, 2, 1, 1, 2, 2, 2, 2, 2, 2, 2, 2, 2, 2, 2, 2, 2,\n",
       "       2, 2, 2, 2, 2, 2, 2, 2, 2, 2, 2, 2, 2, 1, 2, 1, 1, 2, 2, 1, 1, 1,\n",
       "       1, 1, 1, 1, 1, 2, 1, 2, 2, 1, 1, 1, 1, 1, 2, 1, 1, 2, 1, 2, 1, 2,\n",
       "       2, 2, 2, 2, 2, 2, 2, 2, 2, 2, 2, 2, 2, 2, 2, 2, 2, 2, 2, 2, 2, 2,\n",
       "       1, 2, 1, 2, 1, 2, 1, 2, 2, 1, 1, 2, 2, 1, 1, 2])"
      ]
     },
     "execution_count": 198,
     "metadata": {},
     "output_type": "execute_result"
    }
   ],
   "source": [
    "y_pred_lr"
   ]
  },
  {
   "cell_type": "code",
   "execution_count": 199,
   "metadata": {},
   "outputs": [],
   "source": [
    "y_pred_with_zeros_lr = add_zeros(y_pred_lr, ids_lr, ids_for_zero_lr)"
   ]
  },
  {
   "cell_type": "code",
   "execution_count": 200,
   "metadata": {},
   "outputs": [
    {
     "data": {
      "text/plain": [
       "array([0, 0, 0, 0, 0, 0, 0, 0, 0, 0, 0, 0, 0, 0, 0, 0, 0, 0, 0, 0, 0, 0,\n",
       "       0, 0, 0, 0, 0, 0, 0, 0, 0, 0, 0, 0, 0, 0, 0, 0, 0, 0, 0, 0, 0, 0,\n",
       "       0, 0, 0, 0, 0, 0, 0, 0, 0, 0, 0, 0, 0, 0, 0, 0, 0, 0, 0, 0, 0, 0,\n",
       "       0, 0, 0, 0, 0, 0, 0, 0, 0, 0, 0, 0, 0, 0, 0, 0, 0, 0, 0, 0, 0, 0,\n",
       "       0, 0, 0, 0, 0, 0, 0, 0, 0, 0, 0, 0, 0, 0, 0, 0, 0, 0, 0, 0, 0, 0,\n",
       "       0, 0, 0, 0, 0, 1, 1, 1, 1, 1, 0, 0, 0, 0, 0, 0, 0, 0, 1, 2, 1, 0,\n",
       "       1, 1, 1, 1, 1, 1, 1, 2, 1, 1, 1, 1, 1, 1, 1, 0, 1, 1, 1, 0, 0, 0,\n",
       "       0, 0, 0, 0, 0, 1, 0, 2, 0, 2, 0, 2, 0, 0, 0, 0, 0, 0, 0, 0, 0, 0,\n",
       "       0, 0, 0, 0, 0, 0, 0, 0, 0, 0, 0, 0, 0, 0, 0, 0, 0, 0, 0, 0, 0, 0,\n",
       "       0, 0, 0, 0, 0, 0, 1, 1, 1, 2, 1, 2, 1, 2, 1, 1, 2, 1, 1, 1, 1, 1,\n",
       "       1, 1, 1, 1, 1, 1, 1, 1, 1, 1, 1, 2, 1, 1, 1, 1, 2, 1, 1, 1, 1, 1,\n",
       "       2, 1, 2, 1, 2, 1, 1, 2, 1, 1, 0, 0, 0, 0, 0, 0, 0, 0, 0, 0, 0, 0,\n",
       "       0, 0, 0, 0, 0, 0, 0, 0, 0, 0, 0, 0, 0, 0, 0, 0, 0, 0, 0, 0, 0, 2,\n",
       "       1, 1, 2, 1, 0, 2, 2, 1, 2, 2, 1, 2, 1, 1, 1, 2, 0, 1, 1, 1, 1, 1,\n",
       "       2, 1, 2, 1, 1, 2, 1, 1, 2, 1, 1, 2, 1, 1, 1, 1, 1, 2, 2, 1, 2, 2,\n",
       "       1, 2, 2, 2, 1, 2, 1, 1, 1, 1, 2, 2, 2, 1, 2, 2, 2, 2, 2, 2, 2, 2,\n",
       "       2, 1, 2, 2, 2, 2, 2, 2, 2, 2, 2, 2, 2, 2, 2, 2, 2, 2, 2, 2, 1, 1,\n",
       "       2, 2, 2, 1, 2, 2, 2, 2, 2, 2, 2, 1, 2, 1, 1, 2, 2, 2, 2, 2, 2, 2,\n",
       "       1, 2, 2, 2, 2, 2, 2, 2, 2, 2, 2, 2, 2, 2, 2, 2, 2, 2, 2, 2, 2, 2,\n",
       "       2, 2, 2, 2, 2, 2, 2, 2, 2, 2, 2, 2, 2, 2, 2, 2, 1, 2, 2, 2, 2, 2,\n",
       "       2, 2, 2, 2, 2, 2, 2, 2, 2, 2, 2, 1, 2, 2, 2, 2, 1, 2, 1, 1, 2, 2,\n",
       "       2, 2, 2, 2, 2, 2, 2, 2, 2, 2, 2, 2, 2, 2, 2, 2, 2, 2, 2, 2, 2, 2,\n",
       "       2, 2, 1, 2, 1, 1, 2, 2, 1, 1, 1, 1, 1, 1, 1, 1, 2, 1, 2, 2, 1, 1,\n",
       "       1, 1, 1, 2, 1, 1, 2, 1, 2, 1, 2, 2, 2, 2, 2, 2, 0, 0, 2, 2, 2, 0,\n",
       "       2, 2, 2, 2, 2, 2, 2, 0, 2, 2, 2, 2, 0, 2, 2, 0, 0, 0, 0, 0, 0, 0,\n",
       "       0, 2, 1, 2, 1, 2, 1, 2, 1, 2, 2, 1, 1, 2, 2, 1, 1, 2, 0, 0, 0, 0,\n",
       "       0, 0, 0, 0, 0, 0, 0, 0, 0, 0, 0, 0, 0, 0, 0, 0, 0, 0, 0, 0, 0, 0,\n",
       "       0, 0, 0, 0, 0, 0, 0, 0, 0, 0, 0, 0, 0, 0, 0, 0, 0, 0, 0, 0, 0, 0,\n",
       "       0, 0, 0, 0, 0, 0, 0, 0, 0, 0, 0, 0, 0, 0, 0, 0, 0, 0, 0, 0, 0, 0,\n",
       "       0, 0])"
      ]
     },
     "execution_count": 200,
     "metadata": {},
     "output_type": "execute_result"
    }
   ],
   "source": [
    "y_pred_with_zeros_lr"
   ]
  },
  {
   "cell_type": "code",
   "execution_count": 201,
   "metadata": {},
   "outputs": [
    {
     "data": {
      "image/png": "[encoded data removed]",
      "text/plain": [
       "<Figure size 2160x720 with 1 Axes>"
      ]
     },
     "metadata": {
      "needs_background": "light"
     },
     "output_type": "display_data"
    }
   ],
   "source": [
    "plt.figure(figsize=(30,10))\n",
    "plt.scatter(list(range(len(y_pred_with_zeros_lr))), y_pred_with_zeros_lr);"
   ]
  },
  {
   "cell_type": "code",
   "execution_count": 204,
   "metadata": {},
   "outputs": [
    {
     "name": "stdout",
     "output_type": "stream",
     "text": [
      "Video has been successfully created!\n"
     ]
    }
   ],
   "source": [
    "make_video(y_pred_with_zeros_lr, 'LR')"
   ]
  },
  {
   "cell_type": "markdown",
   "metadata": {},
   "source": [
    "### Обробка відео із NN"
   ]
  },
  {
   "cell_type": "code",
   "execution_count": 205,
   "metadata": {},
   "outputs": [
    {
     "name": "stdout",
     "output_type": "stream",
     "text": [
      "175 : 1175.jpg hasn't got any features!\n",
      "176 : 1176.jpg hasn't got any features!\n",
      "177 : 1177.jpg hasn't got any features!\n",
      "178 : 1178.jpg hasn't got any features!\n",
      "183 : 1183.jpg hasn't got any features!\n",
      "184 : 1184.jpg hasn't got any features!\n",
      "185 : 1185.jpg hasn't got any features!\n",
      "186 : 1186.jpg hasn't got any features!\n",
      "187 : 1187.jpg hasn't got any features!\n",
      "188 : 1188.jpg hasn't got any features!\n",
      "189 : 1189.jpg hasn't got any features!\n",
      "190 : 1190.jpg hasn't got any features!\n",
      "191 : 1191.jpg hasn't got any features!\n",
      "192 : 1192.jpg hasn't got any features!\n",
      "193 : 1193.jpg hasn't got any features!\n",
      "194 : 1194.jpg hasn't got any features!\n",
      "195 : 1195.jpg hasn't got any features!\n",
      "196 : 1196.jpg hasn't got any features!\n",
      "197 : 1197.jpg hasn't got any features!\n",
      "198 : 1198.jpg hasn't got any features!\n",
      "199 : 1199.jpg hasn't got any features!\n",
      "254 : 1254.jpg hasn't got any features!\n",
      "255 : 1255.jpg hasn't got any features!\n",
      "256 : 1256.jpg hasn't got any features!\n",
      "257 : 1257.jpg hasn't got any features!\n",
      "258 : 1258.jpg hasn't got any features!\n",
      "259 : 1259.jpg hasn't got any features!\n",
      "260 : 1260.jpg hasn't got any features!\n",
      "261 : 1261.jpg hasn't got any features!\n",
      "262 : 1262.jpg hasn't got any features!\n",
      "263 : 1263.jpg hasn't got any features!\n",
      "264 : 1264.jpg hasn't got any features!\n",
      "265 : 1265.jpg hasn't got any features!\n",
      "266 : 1266.jpg hasn't got any features!\n",
      "267 : 1267.jpg hasn't got any features!\n",
      "268 : 1268.jpg hasn't got any features!\n",
      "269 : 1269.jpg hasn't got any features!\n",
      "270 : 1270.jpg hasn't got any features!\n",
      "271 : 1271.jpg hasn't got any features!\n",
      "272 : 1272.jpg hasn't got any features!\n",
      "273 : 1273.jpg hasn't got any features!\n",
      "274 : 1274.jpg hasn't got any features!\n",
      "275 : 1275.jpg hasn't got any features!\n",
      "276 : 1276.jpg hasn't got any features!\n",
      "277 : 1277.jpg hasn't got any features!\n",
      "278 : 1278.jpg hasn't got any features!\n",
      "279 : 1279.jpg hasn't got any features!\n",
      "280 : 1280.jpg hasn't got any features!\n",
      "580 : 1580.jpg hasn't got any features!\n",
      "608 : 1608.jpg hasn't got any features!\n",
      "609 : 1609.jpg hasn't got any features!\n",
      "\n",
      "X_test_video shape: (589, 32)\n"
     ]
    }
   ],
   "source": [
    "X_test_video, ids_nn, ids_for_zero_nn = create_X_for_nn(500, \"video_frames\")\n",
    "\n",
    "print()\n",
    "print(\"X_test_video shape:\", X_test_video.shape)"
   ]
  },
  {
   "cell_type": "code",
   "execution_count": 171,
   "metadata": {},
   "outputs": [
    {
     "name": "stdout",
     "output_type": "stream",
     "text": [
      "241.jpg hasn't got any features!\n",
      "267.jpg hasn't got any features!\n",
      "269.jpg hasn't got any features!\n",
      "39.jpg hasn't got any features!\n",
      "46.jpg hasn't got any features!\n",
      "91.jpg hasn't got any features!\n",
      "92.jpg hasn't got any features!\n",
      "93.jpg hasn't got any features!\n",
      "\n",
      "X_for_nn shape: (261, 32)\n",
      "y_for_nn shape: (261,)\n"
     ]
    }
   ],
   "source": [
    "X_for_nn, y_for_nn = create_X_and_y_pca(500, directory_test)\n",
    "\n",
    "print()\n",
    "print(\"X_for_nn shape:\", X_for_nn.shape)\n",
    "print(\"y_for_nn shape:\", y_for_nn.shape)"
   ]
  },
  {
   "cell_type": "code",
   "execution_count": 178,
   "metadata": {},
   "outputs": [
    {
     "data": {
      "text/plain": [
       "MLPClassifier(activation='relu', alpha=0.0001, batch_size='auto', beta_1=0.9,\n",
       "              beta_2=0.999, early_stopping=False, epsilon=1e-08,\n",
       "              hidden_layer_sizes=(300,), learning_rate='constant',\n",
       "              learning_rate_init=0.001, max_iter=200, momentum=0.9,\n",
       "              n_iter_no_change=10, nesterovs_momentum=True, power_t=0.5,\n",
       "              random_state=None, shuffle=True, solver='adam', tol=0.0001,\n",
       "              validation_fraction=0.1, verbose=False, warm_start=False)"
      ]
     },
     "execution_count": 178,
     "metadata": {},
     "output_type": "execute_result"
    }
   ],
   "source": [
    "from sklearn.neural_network import MLPClassifier\n",
    "nn = MLPClassifier(hidden_layer_sizes=(300,))\n",
    "\n",
    "nn.fit(X_for_nn, y_for_nn)"
   ]
  },
  {
   "cell_type": "code",
   "execution_count": 179,
   "metadata": {},
   "outputs": [],
   "source": [
    "y_pred_nn = nn.predict(X_test_video)"
   ]
  },
  {
   "cell_type": "code",
   "execution_count": 180,
   "metadata": {},
   "outputs": [
    {
     "data": {
      "text/plain": [
       "array([2, 0, 0, 2, 0, 2, 0, 0, 2, 2, 0, 0, 0, 0, 0, 0, 2, 2, 2, 2, 0, 2,\n",
       "       2, 0, 2, 2, 1, 1, 1, 2, 1, 2, 0, 0, 1, 0, 2, 0, 1, 0, 0, 0, 0, 0,\n",
       "       0, 2, 0, 0, 0, 0, 2, 0, 0, 2, 0, 0, 0, 0, 0, 0, 0, 0, 0, 0, 0, 0,\n",
       "       0, 2, 0, 0, 0, 2, 2, 2, 2, 2, 2, 2, 2, 2, 2, 2, 1, 2, 1, 1, 1, 1,\n",
       "       1, 1, 1, 1, 1, 1, 1, 1, 1, 2, 1, 2, 2, 1, 1, 1, 2, 1, 1, 2, 1, 2,\n",
       "       2, 1, 1, 2, 1, 1, 1, 1, 1, 1, 1, 1, 1, 1, 1, 1, 2, 1, 1, 1, 1, 1,\n",
       "       1, 1, 1, 1, 1, 1, 1, 1, 1, 1, 1, 1, 1, 1, 1, 1, 1, 1, 2, 1, 1, 1,\n",
       "       1, 1, 1, 1, 1, 1, 1, 1, 1, 1, 1, 1, 2, 1, 1, 2, 2, 1, 2, 2, 2, 0,\n",
       "       0, 0, 2, 1, 1, 0, 1, 1, 1, 1, 1, 1, 1, 1, 1, 1, 1, 1, 1, 1, 1, 1,\n",
       "       1, 1, 1, 1, 1, 1, 1, 1, 1, 1, 1, 1, 1, 1, 1, 1, 1, 1, 1, 1, 1, 1,\n",
       "       1, 1, 1, 1, 1, 1, 1, 1, 1, 1, 1, 1, 1, 2, 1, 1, 1, 1, 1, 1, 1, 1,\n",
       "       1, 1, 1, 1, 1, 1, 1, 1, 1, 1, 1, 1, 1, 1, 1, 1, 1, 1, 1, 1, 1, 1,\n",
       "       1, 1, 1, 1, 1, 1, 1, 1, 1, 1, 1, 1, 1, 0, 1, 0, 1, 2, 1, 0, 2, 2,\n",
       "       2, 2, 2, 2, 2, 1, 1, 2, 2, 2, 2, 2, 2, 2, 2, 2, 2, 2, 2, 2, 1, 2,\n",
       "       2, 2, 2, 2, 2, 2, 2, 2, 2, 2, 2, 2, 2, 0, 2, 2, 2, 2, 2, 2, 1, 1,\n",
       "       1, 2, 1, 1, 0, 1, 0, 1, 1, 1, 1, 1, 0, 2, 2, 2, 2, 2, 2, 2, 2, 2,\n",
       "       2, 2, 1, 2, 0, 2, 2, 0, 2, 2, 2, 1, 0, 2, 0, 2, 0, 2, 0, 2, 1, 2,\n",
       "       2, 2, 1, 1, 1, 2, 2, 1, 2, 2, 0, 2, 2, 2, 1, 1, 2, 2, 2, 1, 1, 1,\n",
       "       1, 1, 1, 1, 2, 2, 2, 2, 2, 2, 2, 1, 2, 1, 2, 2, 2, 2, 2, 0, 2, 0,\n",
       "       2, 0, 0, 2, 2, 2, 2, 2, 2, 2, 2, 1, 1, 0, 2, 0, 2, 0, 1, 2, 1, 2,\n",
       "       2, 2, 2, 1, 2, 1, 1, 0, 1, 1, 1, 2, 0, 1, 1, 2, 1, 2, 2, 2, 2, 0,\n",
       "       2, 0, 2, 2, 1, 0, 2, 2, 2, 2, 2, 2, 2, 2, 2, 2, 2, 2, 2, 0, 2, 0,\n",
       "       0, 2, 2, 2, 2, 0, 2, 0, 0, 0, 0, 0, 2, 0, 2, 2, 2, 2, 2, 2, 2, 1,\n",
       "       0, 0, 1, 1, 1, 2, 0, 0, 0, 0, 2, 2, 0, 0, 0, 2, 2, 0, 2, 2, 1, 2,\n",
       "       0, 0, 2, 0, 2, 1, 1, 2, 1, 2, 2, 0, 2, 0, 1, 2, 2, 1, 0, 1, 0, 0,\n",
       "       1, 2, 0, 2, 0, 2, 2, 2, 1, 0, 0, 0, 0, 0, 0, 0, 1, 1, 0, 0, 0, 1,\n",
       "       1, 1, 1, 1, 1, 2, 2, 2, 2, 0, 2, 0, 2, 2, 0, 2, 2])"
      ]
     },
     "execution_count": 180,
     "metadata": {},
     "output_type": "execute_result"
    }
   ],
   "source": [
    "y_pred_nn"
   ]
  },
  {
   "cell_type": "code",
   "execution_count": 181,
   "metadata": {},
   "outputs": [],
   "source": [
    "y_pred_with_zeros_nn = add_zeros(y_pred_nn, ids_nn, ids_for_zero_nn)"
   ]
  },
  {
   "cell_type": "code",
   "execution_count": 206,
   "metadata": {},
   "outputs": [
    {
     "data": {
      "text/plain": [
       "array([2, 0, 0, 2, 0, 2, 0, 0, 2, 2, 0, 0, 0, 0, 0, 0, 2, 2, 2, 2, 0, 2,\n",
       "       2, 0, 2, 2, 1, 1, 1, 2, 1, 2, 0, 0, 1, 0, 2, 0, 1, 0, 0, 0, 0, 0,\n",
       "       0, 2, 0, 0, 0, 0, 2, 0, 0, 2, 0, 0, 0, 0, 0, 0, 0, 0, 0, 0, 0, 0,\n",
       "       0, 2, 0, 0, 0, 2, 2, 2, 2, 2, 2, 2, 2, 2, 2, 2, 1, 2, 1, 1, 1, 1,\n",
       "       1, 1, 1, 1, 1, 1, 1, 1, 1, 2, 1, 2, 2, 1, 1, 1, 2, 1, 1, 2, 1, 2,\n",
       "       2, 1, 1, 2, 1, 1, 1, 1, 1, 1, 1, 1, 1, 1, 1, 1, 2, 1, 1, 1, 1, 1,\n",
       "       1, 1, 1, 1, 1, 1, 1, 1, 1, 1, 1, 1, 1, 1, 1, 1, 1, 1, 2, 1, 1, 1,\n",
       "       1, 1, 1, 1, 1, 1, 1, 1, 1, 1, 1, 1, 2, 1, 1, 2, 2, 1, 2, 2, 2, 0,\n",
       "       0, 0, 0, 0, 0, 0, 2, 0, 0, 0, 0, 0, 0, 0, 0, 0, 0, 0, 0, 0, 0, 0,\n",
       "       0, 0, 1, 1, 0, 1, 1, 1, 1, 1, 1, 1, 1, 1, 1, 1, 1, 1, 1, 1, 1, 1,\n",
       "       1, 1, 1, 1, 1, 1, 1, 1, 1, 1, 1, 1, 1, 1, 1, 1, 1, 1, 1, 1, 1, 1,\n",
       "       1, 1, 1, 1, 1, 1, 1, 1, 1, 1, 1, 1, 0, 0, 0, 0, 0, 0, 0, 0, 0, 0,\n",
       "       0, 0, 0, 0, 0, 0, 0, 0, 0, 0, 0, 0, 0, 0, 0, 0, 0, 2, 1, 1, 1, 1,\n",
       "       1, 1, 1, 1, 1, 1, 1, 1, 1, 1, 1, 1, 1, 1, 1, 1, 1, 1, 1, 1, 1, 1,\n",
       "       1, 1, 1, 1, 1, 1, 1, 1, 1, 1, 1, 1, 1, 1, 1, 1, 1, 0, 1, 0, 1, 2,\n",
       "       1, 0, 2, 2, 2, 2, 2, 2, 2, 1, 1, 2, 2, 2, 2, 2, 2, 2, 2, 2, 2, 2,\n",
       "       2, 2, 1, 2, 2, 2, 2, 2, 2, 2, 2, 2, 2, 2, 2, 2, 2, 0, 2, 2, 2, 2,\n",
       "       2, 2, 1, 1, 1, 2, 1, 1, 0, 1, 0, 1, 1, 1, 1, 1, 0, 2, 2, 2, 2, 2,\n",
       "       2, 2, 2, 2, 2, 2, 1, 2, 0, 2, 2, 0, 2, 2, 2, 1, 0, 2, 0, 2, 0, 2,\n",
       "       0, 2, 1, 2, 2, 2, 1, 1, 1, 2, 2, 1, 2, 2, 0, 2, 2, 2, 1, 1, 2, 2,\n",
       "       2, 1, 1, 1, 1, 1, 1, 1, 2, 2, 2, 2, 2, 2, 2, 1, 2, 1, 2, 2, 2, 2,\n",
       "       2, 0, 2, 0, 2, 0, 0, 2, 2, 2, 2, 2, 2, 2, 2, 1, 1, 0, 2, 0, 2, 0,\n",
       "       1, 2, 1, 2, 2, 2, 2, 1, 2, 1, 1, 0, 1, 1, 1, 2, 0, 1, 1, 2, 1, 2,\n",
       "       2, 2, 2, 0, 2, 0, 2, 2, 1, 0, 2, 2, 2, 2, 2, 2, 2, 2, 2, 2, 2, 2,\n",
       "       2, 0, 2, 0, 0, 2, 2, 2, 2, 0, 2, 0, 0, 0, 0, 0, 2, 0, 2, 2, 2, 2,\n",
       "       2, 2, 2, 1, 0, 0, 1, 1, 1, 2, 0, 0, 0, 0, 2, 2, 0, 0, 0, 2, 2, 0,\n",
       "       2, 2, 1, 2, 0, 0, 2, 0, 0, 2, 1, 1, 2, 1, 2, 2, 0, 2, 0, 1, 2, 2,\n",
       "       1, 0, 1, 0, 0, 1, 2, 0, 2, 0, 2, 2, 2, 1, 0, 0, 0, 0, 0, 0, 0, 0,\n",
       "       0, 1, 1, 0, 0, 0, 1, 1, 1, 1, 1, 1, 2, 2, 2, 2, 0, 2, 0, 2, 2, 0,\n",
       "       2, 2])"
      ]
     },
     "execution_count": 206,
     "metadata": {},
     "output_type": "execute_result"
    }
   ],
   "source": [
    "y_pred_with_zeros_nn"
   ]
  },
  {
   "cell_type": "code",
   "execution_count": 207,
   "metadata": {},
   "outputs": [
    {
     "data": {
      "image/png": "[encoded data removed]",
      "text/plain": [
       "<Figure size 2160x720 with 1 Axes>"
      ]
     },
     "metadata": {
      "needs_background": "light"
     },
     "output_type": "display_data"
    }
   ],
   "source": [
    "plt.figure(figsize=(30,10))\n",
    "plt.scatter(list(range(len(y_pred_with_zeros_nn))), y_pred_with_zeros_nn);"
   ]
  },
  {
   "cell_type": "code",
   "execution_count": 208,
   "metadata": {},
   "outputs": [
    {
     "name": "stdout",
     "output_type": "stream",
     "text": [
      "Video has been successfully created!\n"
     ]
    }
   ],
   "source": [
    "make_video(y_pred_with_zeros_nn, 'NN')"
   ]
  },
  {
   "cell_type": "markdown",
   "metadata": {},
   "source": [
    "## Відео з візуалізацією процесу розпізнавання"
   ]
  },
  {
   "cell_type": "code",
   "execution_count": 39,
   "metadata": {},
   "outputs": [],
   "source": [
    "import cv2\n",
    "import numpy as np\n",
    "\n",
    "img = cv2.imread(\"main_photo.jpg\", cv2.IMREAD_GRAYSCALE)  # queryiamge\n",
    "img = cv2.resize(img, (480, 480))\n",
    "cap = cv2.VideoCapture(0)\n",
    "\n",
    "# Features\n",
    "orb = cv2.ORB_create(1500)\n",
    "kp_image, desc_image = orb.detectAndCompute(img, None)\n",
    "\n",
    "# Feature matching\n",
    "bf = cv2.BFMatcher(cv2.NORM_HAMMING, crossCheck=True)\n",
    "\n",
    "# For video recording\n",
    "# fourcc = cv2.VideoWriter_fourcc(*'XVID')\n",
    "# video_name = 'video_detection.avi'\n",
    "# resolution = (1120, 480)\n",
    "# out = cv2.VideoWriter(video_name, fourcc, 20.0, resolution, isColor=False)\n",
    "\n",
    "while True:\n",
    "    _, frame = cap.read()\n",
    "    grayframe = cv2.cvtColor(frame, cv2.COLOR_BGR2GRAY)  # trainimage\n",
    "    kp_grayframe, desc_grayframe = orb.detectAndCompute(grayframe, None)\n",
    "    \n",
    "    matches = bf.match(desc_image, desc_grayframe)\n",
    "    matches = sorted(matches, key = lambda x: x.distance)\n",
    "\n",
    "    query_pts = np.float32([kp_image[m.queryIdx].pt for m in matches]).reshape(-1, 1, 2)\n",
    "    train_pts = np.float32([kp_grayframe[m.trainIdx].pt for m in matches]).reshape(-1, 1, 2)\n",
    "    _, mask = cv2.findHomography(query_pts, train_pts, cv2.RANSAC, 5.0)\n",
    "    matches_mask = mask.ravel().tolist()\n",
    "    \n",
    "    true_matches = []\n",
    "    for index, el in enumerate(matches_mask):\n",
    "        if el == 1:\n",
    "            true_matches.append(matches[index])\n",
    "    \n",
    "    matching_true_relults = cv2.drawMatches(img, kp_image, grayframe, kp_grayframe, true_matches, None)\n",
    "\n",
    "    # out.write(matching_true_relults)\n",
    "    \n",
    "    cv2.imshow(\"True Matches\", matching_true_relults)\n",
    "    \n",
    "    key = cv2.waitKey(1)\n",
    "    if key == 27:\n",
    "        break\n",
    "\n",
    "cap.release()\n",
    "# out.release()\n",
    "cv2.destroyAllWindows()"
   ]
  },
  {
   "cell_type": "markdown",
   "metadata": {},
   "source": [
    "Не знаю, чи вдалося реалізувати те, що потрібно було, проте мені було досить цікаво написати такий код. У майбутньому його можна якось докрутити, щоб програма прорисовувала контури машинки на відео. Проте чомусь я не зміг записати відео через код у Пайтоні, дійсно дуже довго розбирався, але так і не вийшло, тому я записав роботу програми через запис екрану на Windows."
   ]
  }
 ],
 "metadata": {
  "kernelspec": {
   "display_name": "Python 3",
   "language": "python",
   "name": "python3"
  },
  "language_info": {
   "codemirror_mode": {
    "name": "ipython",
    "version": 3
   },
   "file_extension": ".py",
   "mimetype": "text/x-python",
   "name": "python",
   "nbconvert_exporter": "python",
   "pygments_lexer": "ipython3",
   "version": "3.7.4"
  }
 },
 "nbformat": 4,
 "nbformat_minor": 2
}
